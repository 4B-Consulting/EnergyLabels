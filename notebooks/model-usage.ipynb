{
 "cells": [
  {
   "metadata": {
    "ExecuteTime": {
     "end_time": "2025-07-14T01:23:26.559630Z",
     "start_time": "2025-07-14T01:23:26.256486Z"
    }
   },
   "cell_type": "code",
   "source": [
    "from contextlib import nullcontext\n",
    "\n",
    "import pandas as pd"
   ],
   "id": "ae97526d2fa49437",
   "outputs": [],
   "execution_count": 1
  },
  {
   "metadata": {
    "ExecuteTime": {
     "end_time": "2025-07-14T01:23:26.697284Z",
     "start_time": "2025-07-14T01:23:26.678323Z"
    }
   },
   "cell_type": "code",
   "source": [
    "df = pd.read_csv(\"../data/gt.csv\")\n",
    "df.rename(columns={\n",
    "    'Pieces1': 'Pieces',\n",
    "    'Manufacturer1': \"Manufacturer\",\n",
    "    \"SubType1\": \"SubType\",\n",
    "    \"HxType1\": \"HxType\",\n",
    "    \"NominelEffectEach1\": \"NominalEffectEach\",\n",
    "    \"Year1\": \"Year\"\n",
    "}, inplace=True)\n",
    "df.head()"
   ],
   "id": "95b8f15208dd46af",
   "outputs": [
    {
     "data": {
      "text/plain": [
       "                                              S_text  \\\n",
       "0  Fjernvarme med isoleret veksler (indirekte anl...   \n",
       "1                            Eksisterende fjernvarme   \n",
       "2  Fjernvarme med uisoleret veksler (indirekte an...   \n",
       "3  Fjernvarme med isoleret veksler (indirekte anl...   \n",
       "4  Fjernvarme med isoleret veksler (indirekte anl...   \n",
       "\n",
       "                                              L_text  Pieces   Manufacturer  \\\n",
       "0  Bygningen opvarmes med fjernvarme. Anlægget er...     1.0        Unknown   \n",
       "1                                                NaN     1.0        Unknown   \n",
       "2  Bygningen opvarmes med fjernvarme. Anlægget er...     1.0        Unknown   \n",
       "3  Ejendommen opvarmes med fjernvarme fra HOFOR.\\...     1.0  Danfoss Redan   \n",
       "4  Bygningen opvarmes med fjernvarme. Anlægget er...     1.0        Unknown   \n",
       "\n",
       "  SubType                  HxType NominalEffectEach         Year  \n",
       "0     NaN   Isoleret varmeveksler               NaN          NaN  \n",
       "1     NaN                     NaN               NaN          NaN  \n",
       "2     NaN  Uisoleret varmeveksler               NaN   After 1980  \n",
       "3     NaN   Isoleret varmeveksler               NaN          NaN  \n",
       "4     NaN   Isoleret varmeveksler               NaN  Before 1970  "
      ],
      "text/html": [
       "<div>\n",
       "<style scoped>\n",
       "    .dataframe tbody tr th:only-of-type {\n",
       "        vertical-align: middle;\n",
       "    }\n",
       "\n",
       "    .dataframe tbody tr th {\n",
       "        vertical-align: top;\n",
       "    }\n",
       "\n",
       "    .dataframe thead th {\n",
       "        text-align: right;\n",
       "    }\n",
       "</style>\n",
       "<table border=\"1\" class=\"dataframe\">\n",
       "  <thead>\n",
       "    <tr style=\"text-align: right;\">\n",
       "      <th></th>\n",
       "      <th>S_text</th>\n",
       "      <th>L_text</th>\n",
       "      <th>Pieces</th>\n",
       "      <th>Manufacturer</th>\n",
       "      <th>SubType</th>\n",
       "      <th>HxType</th>\n",
       "      <th>NominalEffectEach</th>\n",
       "      <th>Year</th>\n",
       "    </tr>\n",
       "  </thead>\n",
       "  <tbody>\n",
       "    <tr>\n",
       "      <th>0</th>\n",
       "      <td>Fjernvarme med isoleret veksler (indirekte anl...</td>\n",
       "      <td>Bygningen opvarmes med fjernvarme. Anlægget er...</td>\n",
       "      <td>1.0</td>\n",
       "      <td>Unknown</td>\n",
       "      <td>NaN</td>\n",
       "      <td>Isoleret varmeveksler</td>\n",
       "      <td>NaN</td>\n",
       "      <td>NaN</td>\n",
       "    </tr>\n",
       "    <tr>\n",
       "      <th>1</th>\n",
       "      <td>Eksisterende fjernvarme</td>\n",
       "      <td>NaN</td>\n",
       "      <td>1.0</td>\n",
       "      <td>Unknown</td>\n",
       "      <td>NaN</td>\n",
       "      <td>NaN</td>\n",
       "      <td>NaN</td>\n",
       "      <td>NaN</td>\n",
       "    </tr>\n",
       "    <tr>\n",
       "      <th>2</th>\n",
       "      <td>Fjernvarme med uisoleret veksler (indirekte an...</td>\n",
       "      <td>Bygningen opvarmes med fjernvarme. Anlægget er...</td>\n",
       "      <td>1.0</td>\n",
       "      <td>Unknown</td>\n",
       "      <td>NaN</td>\n",
       "      <td>Uisoleret varmeveksler</td>\n",
       "      <td>NaN</td>\n",
       "      <td>After 1980</td>\n",
       "    </tr>\n",
       "    <tr>\n",
       "      <th>3</th>\n",
       "      <td>Fjernvarme med isoleret veksler (indirekte anl...</td>\n",
       "      <td>Ejendommen opvarmes med fjernvarme fra HOFOR.\\...</td>\n",
       "      <td>1.0</td>\n",
       "      <td>Danfoss Redan</td>\n",
       "      <td>NaN</td>\n",
       "      <td>Isoleret varmeveksler</td>\n",
       "      <td>NaN</td>\n",
       "      <td>NaN</td>\n",
       "    </tr>\n",
       "    <tr>\n",
       "      <th>4</th>\n",
       "      <td>Fjernvarme med isoleret veksler (indirekte anl...</td>\n",
       "      <td>Bygningen opvarmes med fjernvarme. Anlægget er...</td>\n",
       "      <td>1.0</td>\n",
       "      <td>Unknown</td>\n",
       "      <td>NaN</td>\n",
       "      <td>Isoleret varmeveksler</td>\n",
       "      <td>NaN</td>\n",
       "      <td>Before 1970</td>\n",
       "    </tr>\n",
       "  </tbody>\n",
       "</table>\n",
       "</div>"
      ]
     },
     "execution_count": 2,
     "metadata": {},
     "output_type": "execute_result"
    }
   ],
   "execution_count": 2
  },
  {
   "metadata": {},
   "cell_type": "markdown",
   "source": "Create a number for each label in the dataset. This approach is not extensible: if the manufacturer is not present in the training data, the model won't be able to predict it.",
   "id": "48721a0cc4c02c04"
  },
  {
   "metadata": {
    "ExecuteTime": {
     "end_time": "2025-07-14T01:23:26.742698Z",
     "start_time": "2025-07-14T01:23:26.730845Z"
    }
   },
   "cell_type": "code",
   "source": [
    "target_cols = df.columns[2:]\n",
    "\n",
    "label_maps = {}\n",
    "for col in target_cols:\n",
    "    if df[col].dtype == \"object\":\n",
    "        df.fillna({col: \"NaN\"})\n",
    "        label_maps[col] = {label: idx for idx, label in enumerate(df[col].unique())}\n",
    "        df[f\"{col}_idx\"] = df[col].map(label_maps[col])"
   ],
   "id": "9e83dc2fdc466f06",
   "outputs": [],
   "execution_count": 3
  },
  {
   "metadata": {
    "ExecuteTime": {
     "end_time": "2025-07-14T01:23:27.017902Z",
     "start_time": "2025-07-14T01:23:26.782077Z"
    }
   },
   "cell_type": "code",
   "source": [
    "import sys\n",
    "sys.path.append(\"../scripts\")\n",
    "from local_model import chatbot_extracter"
   ],
   "id": "b09572018dade231",
   "outputs": [],
   "execution_count": 4
  },
  {
   "metadata": {
    "ExecuteTime": {
     "end_time": "2025-07-14T01:23:27.074611Z",
     "start_time": "2025-07-14T01:23:27.070681Z"
    }
   },
   "cell_type": "code",
   "source": [
    "MODEL_PATH = \"../models/Qwen3-0.6B-Q5_K_M.gguf\"  # Path to your GGUF file\n",
    "N_CTX = 2048  # Context window size\n",
    "N_THREADS = 8  # CPU threads\n",
    "\n",
    "def build_prompt(text):\n",
    "    return f\"\"\"\n",
    "    Example 1:\n",
    "    Input: \"Fjernvarme med isoleret veksler (indirekte anlæg) - nyere.\n",
    "    Bygningen opvarmes med fjernvarme.\n",
    "    Anlægget er udført med isoleret varmeveksler og indirekte centralvarmevand i fordelingsnettet.\n",
    "    Anlægget er opstillet i Badensgade 41.\"\n",
    "    Output: {{\n",
    "        \"Pieces\": 1,\n",
    "        \"Manufacturer\": \"Unknown\",\n",
    "        \"SubType\": null,\n",
    "        \"HxType\": \"Eksisterende fjernvarme\",\n",
    "        \"NominalEffectEach\": null,\n",
    "        \"Year\": null\n",
    "    }}\n",
    "\n",
    "    Example 2:\n",
    "    Input: \"Fjernvarme med isoleret veksler (indirekte anlæg) - nyere. Ejendommen opvarmes med fjernvarme fra HOFOR.\n",
    "Til opvarmning af radiatorerne er der 1 stk. isoleret varmevekslere monteret i fjernvarmeunit,  fabrikat Redan.\n",
    "Fjernvarmeunit er placeret i kælderen.\"\n",
    "    Output: {{\n",
    "        \"Pieces\": 1,\n",
    "        \"Manufacturer\": \"Danfoss Redan\",\n",
    "        \"SubType\": null,\n",
    "        \"HxType\": \"Isoleret varmeveksler\",\n",
    "        \"NominalEffectEach\": null,\n",
    "        \"Year\": null\n",
    "    }}\n",
    "\n",
    "    Example 3:\n",
    "    Input: \"Fjv. Installation efter 1980 (isoleret). Ejendommen opvarmes med indirekte fjernvarme.\n",
    "Bygningen opvarmes med fjernvarme med veksler.\n",
    "Veksleren er af fabrikat WPH, type SL70TL-1-90CC fra 2008 og vurderes isoleret med 40 mm PUR.\n",
    "Jf. tidligere energimærkerapport er der brændeovne i de enkelte boliger.\n",
    "I værkstedet i baghuset mod nordvest er der monteret en lille elradiator. Rummet er ikke medtaget som opvarmet i beregningen, da rummet alene vurderes kortvarigt opvarmet.\"\n",
    "    Output: {{\n",
    "        \"Pieces\": 1,\n",
    "        \"Manufacturer\": \"WPH Teknik\",\n",
    "        \"SubType\": SL70TL-1-90CC,\n",
    "        \"HxType\": \"Isoleret varmeveksler\",\n",
    "        \"NominalEffectEach\": null,\n",
    "        \"Year\": 2008\n",
    "    }}\n",
    "\n",
    "    Example 4:\n",
    "    Input: \"Fjernvarme med isoleret veksler (indirekte anlæg) - efter 1980. Bygningen opvarmes med fjernvarme.\n",
    "Anlægget er udført med isoleret varmeveksler og indirekte centralvarmevand i fordelingsnettet.\n",
    "I teknikrum er opstillet 2 stk. varmevekslere - 1 stk. fabr. Sondex type ST 15-ST (radiatorer) à 200 kW og 1 stk. Sondex type ST 20-ST (ventilationsvarmeflader) à 180 kW.\n",
    "Vekslere er præisolerede.\"\n",
    "    Output: {{\n",
    "        \"Pieces\": 1,\n",
    "        \"Manufacturer\": \"Sondex Teknik\",\n",
    "        \"SubType\": \"ST 15-ST\",\n",
    "        \"HxType\": \"Isoleret varmeveksler\",\n",
    "        \"NominalEffectEach\": \"200 kW\",\n",
    "        \"Year\": \"After 1980\"\n",
    "    }}\n",
    "\n",
    "    You are provided a sentence, and you have to extract the following values:\n",
    "        - pieces: the quantity of heating systems.\n",
    "        - manufacturer: if it is not specified it is Unknown\n",
    "        - SubType: must be id to identify the model, e.g. null, SL3323TLX, SKR, APVB,\n",
    "        - HxType: Heat Exchanger Type, e.g. Isoleret varmeveksler, Fjernvarmeveksler, Varmeveksler\n",
    "        - NominalEffectEach, e.g. 1100 kW, 150 kW, 400 kW\n",
    "        - Year: e.g. After 1980, 2017, 2000-2009\n",
    "    Return a JSON with the values.\n",
    "    Input: \"{text}\"\n",
    "    Output:\n",
    "    \"\"\"\n",
    "\n",
    "\n",
    "GRAMMAR = r\"\"\"\n",
    "root ::= \"{\" p \",\" m \",\" s \",\" h \",\" n \",\" y \"}\"\n",
    "p ::= \"\\\"Pieces\\\": \" (number | \"null\")\n",
    "number ::= [0-9]+ (\".\" [0-9]+)?\n",
    "m ::= \"\\\"Manufacturer\\\": \" (\"\\\"Unknown\\\"\" | \"\\\"\" [a-zA-Z0-9æøåÆØÅ ]+ \"\\\"\")\n",
    "s ::= \"\\\"SubType\\\": \" (\"null\" | \"\\\"\" [a-zA-Z0-9æøåÆØÅ ]+ \"\\\"\")\n",
    "h ::= \"\\\"HxType\\\": \" (\"null\" | \"\\\"\" [a-zA-Z0-9æøåÆØÅ ]+ \"\\\"\")\n",
    "n ::= \"\\\"NominalEffectEach\\\": \" (\"null\" | \"\\\"\" + number + \" \" (\"kW\" | \"MW\" | \"W\") + \"\\\"\")\n",
    "y ::= \"\\\"Year\\\": \" (\"null\" | \"\\\"\" [a-zA-Z0-9æøåÆØÅ ]+ \"\\\"\" | [0-9]{4})\n",
    "\"\"\"\n"
   ],
   "id": "8c40c98c6eda31f2",
   "outputs": [],
   "execution_count": 5
  },
  {
   "metadata": {
    "ExecuteTime": {
     "end_time": "2025-07-14T01:23:27.626813Z",
     "start_time": "2025-07-14T01:23:27.086118Z"
    }
   },
   "cell_type": "code",
   "source": "chatbot = chatbot_extracter(MODEL_PATH, N_CTX, N_THREADS, build_prompt, GRAMMAR)",
   "id": "35005b5e990ca6f3",
   "outputs": [
    {
     "name": "stderr",
     "output_type": "stream",
     "text": [
      "llama_context: n_ctx_per_seq (2048) < n_ctx_train (40960) -- the full capacity of the model will not be utilized\n",
      "ggml_metal_init: skipping kernel_get_rows_bf16                     (not supported)\n",
      "ggml_metal_init: skipping kernel_set_rows_bf16                     (not supported)\n",
      "ggml_metal_init: skipping kernel_mul_mv_bf16_f32                   (not supported)\n",
      "ggml_metal_init: skipping kernel_mul_mv_bf16_f32_c4                (not supported)\n",
      "ggml_metal_init: skipping kernel_mul_mv_bf16_f32_1row              (not supported)\n",
      "ggml_metal_init: skipping kernel_mul_mv_bf16_f32_l4                (not supported)\n",
      "ggml_metal_init: skipping kernel_mul_mv_bf16_bf16                  (not supported)\n",
      "ggml_metal_init: skipping kernel_mul_mv_id_bf16_f32                (not supported)\n",
      "ggml_metal_init: skipping kernel_mul_mm_bf16_f32                   (not supported)\n",
      "ggml_metal_init: skipping kernel_mul_mm_id_bf16_f16                (not supported)\n",
      "ggml_metal_init: skipping kernel_flash_attn_ext_bf16_h64           (not supported)\n",
      "ggml_metal_init: skipping kernel_flash_attn_ext_bf16_h80           (not supported)\n",
      "ggml_metal_init: skipping kernel_flash_attn_ext_bf16_h96           (not supported)\n",
      "ggml_metal_init: skipping kernel_flash_attn_ext_bf16_h112          (not supported)\n",
      "ggml_metal_init: skipping kernel_flash_attn_ext_bf16_h128          (not supported)\n",
      "ggml_metal_init: skipping kernel_flash_attn_ext_bf16_h192          (not supported)\n",
      "ggml_metal_init: skipping kernel_flash_attn_ext_bf16_hk192_hv128   (not supported)\n",
      "ggml_metal_init: skipping kernel_flash_attn_ext_bf16_h256          (not supported)\n",
      "ggml_metal_init: skipping kernel_flash_attn_ext_bf16_hk576_hv512   (not supported)\n",
      "ggml_metal_init: skipping kernel_flash_attn_ext_vec_bf16_h64       (not supported)\n",
      "ggml_metal_init: skipping kernel_flash_attn_ext_vec_bf16_h96       (not supported)\n",
      "ggml_metal_init: skipping kernel_flash_attn_ext_vec_bf16_h128      (not supported)\n",
      "ggml_metal_init: skipping kernel_flash_attn_ext_vec_bf16_h192      (not supported)\n",
      "ggml_metal_init: skipping kernel_flash_attn_ext_vec_bf16_hk192_hv128 (not supported)\n",
      "ggml_metal_init: skipping kernel_flash_attn_ext_vec_bf16_h256      (not supported)\n",
      "ggml_metal_init: skipping kernel_flash_attn_ext_vec_bf16_hk576_hv512 (not supported)\n",
      "ggml_metal_init: skipping kernel_cpy_f32_bf16                      (not supported)\n",
      "ggml_metal_init: skipping kernel_cpy_bf16_f32                      (not supported)\n",
      "ggml_metal_init: skipping kernel_cpy_bf16_bf16                     (not supported)\n",
      "llama_kv_cache_unified: LLAMA_SET_ROWS=0, using old ggml_cpy() method for backwards compatibility\n"
     ]
    }
   ],
   "execution_count": 6
  },
  {
   "metadata": {
    "ExecuteTime": {
     "end_time": "2025-07-14T01:23:27.638829Z",
     "start_time": "2025-07-14T01:23:27.635473Z"
    }
   },
   "cell_type": "code",
   "source": [
    "i = 21\n",
    "line = str(df.loc[i, \"S_text\"]) + \". \" + str(df.loc[i, \"L_text\"])\n",
    "print(df.iloc[i])"
   ],
   "id": "51121be8051ad2ed",
   "outputs": [
    {
     "name": "stdout",
     "output_type": "stream",
     "text": [
      "S_text                   Fjernvarme med isoleret veksler (indirekte anl...\n",
      "L_text                   Ejendommen opvarmes med fjernvarme fra HOFOR.\\...\n",
      "Pieces                                                                 1.0\n",
      "Manufacturer                                                       Unknown\n",
      "SubType                                                                NaN\n",
      "HxType                                                    Isoleret veksler\n",
      "NominalEffectEach                                                      NaN\n",
      "Year                                                                   NaN\n",
      "Manufacturer_idx                                                         0\n",
      "SubType_idx                                                              0\n",
      "HxType_idx                                                               3\n",
      "NominalEffectEach_idx                                                    0\n",
      "Year_idx                                                                 0\n",
      "Name: 21, dtype: object\n"
     ]
    }
   ],
   "execution_count": 7
  },
  {
   "metadata": {
    "ExecuteTime": {
     "end_time": "2025-07-14T01:23:33.626354Z",
     "start_time": "2025-07-14T01:23:27.657578Z"
    }
   },
   "cell_type": "code",
   "source": [
    "class Query:\n",
    "    def __init__(self, text):\n",
    "        self.text = text\n",
    "\n",
    "query = Query(line)\n",
    "prediction = await chatbot.extract_heating_data(query)"
   ],
   "id": "9d31f87d42cced9d",
   "outputs": [],
   "execution_count": 8
  },
  {
   "metadata": {
    "ExecuteTime": {
     "end_time": "2025-07-14T01:23:33.661078Z",
     "start_time": "2025-07-14T01:23:33.656642Z"
    }
   },
   "cell_type": "code",
   "source": [
    "import json\n",
    "\n",
    "obj = prediction.body\n",
    "print(obj)"
   ],
   "id": "891af1c31ae63970",
   "outputs": [
    {
     "name": "stdout",
     "output_type": "stream",
     "text": [
      "b'{\"Pieces\":1,\"Manufacturer\":\"HOFOR\",\"SubType\":null,\"HxType\":\"Fjernvarmeveksler\",\"NominalEffectEach\":null,\"Year\":null}'\n"
     ]
    }
   ],
   "execution_count": 9
  },
  {
   "metadata": {
    "ExecuteTime": {
     "end_time": "2025-07-14T01:23:33.678495Z",
     "start_time": "2025-07-14T01:23:33.675942Z"
    }
   },
   "cell_type": "code",
   "source": [
    "pred = json.loads(obj)\n",
    "print(pred)\n",
    "print(type(pred))"
   ],
   "id": "9a65049e63921eda",
   "outputs": [
    {
     "name": "stdout",
     "output_type": "stream",
     "text": [
      "{'Pieces': 1, 'Manufacturer': 'HOFOR', 'SubType': None, 'HxType': 'Fjernvarmeveksler', 'NominalEffectEach': None, 'Year': None}\n",
      "<class 'dict'>\n"
     ]
    }
   ],
   "execution_count": 10
  },
  {
   "metadata": {
    "ExecuteTime": {
     "end_time": "2025-07-14T01:23:33.706450Z",
     "start_time": "2025-07-14T01:23:33.701758Z"
    }
   },
   "cell_type": "code",
   "source": [
    "dd = pd.DataFrame([pred])\n",
    "print(dd)"
   ],
   "id": "3c30abb1453e7303",
   "outputs": [
    {
     "name": "stdout",
     "output_type": "stream",
     "text": [
      "   Pieces Manufacturer SubType             HxType NominalEffectEach  Year\n",
      "0       1        HOFOR    None  Fjernvarmeveksler              None  None\n"
     ]
    }
   ],
   "execution_count": 11
  },
  {
   "metadata": {
    "ExecuteTime": {
     "end_time": "2025-07-14T01:23:33.749209Z",
     "start_time": "2025-07-14T01:23:33.725789Z"
    }
   },
   "cell_type": "code",
   "source": "from tqdm import trange",
   "id": "eda1ba0f2a4b77e1",
   "outputs": [],
   "execution_count": 12
  },
  {
   "metadata": {
    "ExecuteTime": {
     "end_time": "2025-07-14T02:51:50.366267Z",
     "start_time": "2025-07-14T01:23:33.761569Z"
    }
   },
   "cell_type": "code",
   "source": [
    "res = []\n",
    "errors = []\n",
    "for i in trange(len(df)):\n",
    "    line = str(df.loc[i, \"S_text\"]) + \". \" + str(df.loc[i, \"L_text\"])\n",
    "    query = Query(line)\n",
    "    try:\n",
    "        prediction = await chatbot.extract_heating_data(query)\n",
    "        obj = prediction.body\n",
    "        pred = json.loads(obj)\n",
    "        pred[\"S_text\"] = df.loc[i, \"S_text\"]\n",
    "        pred[\"L_text\"] = df.loc[i, \"L_text\"]\n",
    "        res.append(pred)\n",
    "    except:\n",
    "        print(\"error with entry: \", i)\n",
    "        errors.append(i)\n",
    "\n",
    "res_dataframe = pd.DataFrame(res)\n",
    "res_dataframe.head()"
   ],
   "id": "a63c5404cab9d0ba",
   "outputs": [
    {
     "name": "stderr",
     "output_type": "stream",
     "text": [
      "  2%|▏         | 36/2272 [01:46<2:52:13,  4.62s/it]"
     ]
    },
    {
     "name": "stdout",
     "output_type": "stream",
     "text": [
      "error with entry:  35\n"
     ]
    },
    {
     "name": "stderr",
     "output_type": "stream",
     "text": [
      "  3%|▎         | 74/2272 [04:05<2:56:38,  4.82s/it]"
     ]
    },
    {
     "name": "stdout",
     "output_type": "stream",
     "text": [
      "error with entry:  73\n"
     ]
    },
    {
     "name": "stderr",
     "output_type": "stream",
     "text": [
      " 10%|█         | 233/2272 [09:54<1:35:08,  2.80s/it]"
     ]
    },
    {
     "name": "stdout",
     "output_type": "stream",
     "text": [
      "error with entry:  232\n"
     ]
    },
    {
     "name": "stderr",
     "output_type": "stream",
     "text": [
      " 11%|█         | 249/2272 [10:28<1:37:17,  2.89s/it]"
     ]
    },
    {
     "name": "stdout",
     "output_type": "stream",
     "text": [
      "error with entry:  248\n"
     ]
    },
    {
     "name": "stderr",
     "output_type": "stream",
     "text": [
      " 18%|█▊        | 415/2272 [15:53<1:24:44,  2.74s/it]"
     ]
    },
    {
     "name": "stdout",
     "output_type": "stream",
     "text": [
      "error with entry:  414\n"
     ]
    },
    {
     "name": "stderr",
     "output_type": "stream",
     "text": [
      " 19%|█▉        | 432/2272 [16:27<1:30:02,  2.94s/it]"
     ]
    },
    {
     "name": "stdout",
     "output_type": "stream",
     "text": [
      "error with entry:  431\n"
     ]
    },
    {
     "name": "stderr",
     "output_type": "stream",
     "text": [
      " 19%|█▉        | 433/2272 [16:32<1:47:11,  3.50s/it]"
     ]
    },
    {
     "name": "stdout",
     "output_type": "stream",
     "text": [
      "error with entry:  432\n"
     ]
    },
    {
     "name": "stderr",
     "output_type": "stream",
     "text": [
      " 34%|███▎      | 762/2272 [27:20<1:20:14,  3.19s/it]"
     ]
    },
    {
     "name": "stdout",
     "output_type": "stream",
     "text": [
      "error with entry:  761\n"
     ]
    },
    {
     "name": "stderr",
     "output_type": "stream",
     "text": [
      " 34%|███▎      | 763/2272 [27:25<1:36:12,  3.83s/it]"
     ]
    },
    {
     "name": "stdout",
     "output_type": "stream",
     "text": [
      "error with entry:  762\n"
     ]
    },
    {
     "name": "stderr",
     "output_type": "stream",
     "text": [
      " 34%|███▎      | 764/2272 [27:31<1:47:20,  4.27s/it]"
     ]
    },
    {
     "name": "stdout",
     "output_type": "stream",
     "text": [
      "error with entry:  763\n"
     ]
    },
    {
     "name": "stderr",
     "output_type": "stream",
     "text": [
      " 35%|███▌      | 802/2272 [29:01<1:24:54,  3.47s/it]"
     ]
    },
    {
     "name": "stdout",
     "output_type": "stream",
     "text": [
      "error with entry:  801\n"
     ]
    },
    {
     "name": "stderr",
     "output_type": "stream",
     "text": [
      " 36%|███▋      | 824/2272 [30:02<1:21:52,  3.39s/it]"
     ]
    },
    {
     "name": "stdout",
     "output_type": "stream",
     "text": [
      "error with entry:  823\n"
     ]
    },
    {
     "name": "stderr",
     "output_type": "stream",
     "text": [
      " 39%|███▉      | 888/2272 [32:28<1:11:59,  3.12s/it]"
     ]
    },
    {
     "name": "stdout",
     "output_type": "stream",
     "text": [
      "error with entry:  887\n"
     ]
    },
    {
     "name": "stderr",
     "output_type": "stream",
     "text": [
      " 39%|███▉      | 893/2272 [32:44<1:25:18,  3.71s/it]"
     ]
    },
    {
     "name": "stdout",
     "output_type": "stream",
     "text": [
      "error with entry:  892\n"
     ]
    },
    {
     "name": "stderr",
     "output_type": "stream",
     "text": [
      " 43%|████▎     | 980/2272 [36:29<1:21:58,  3.81s/it]"
     ]
    },
    {
     "name": "stdout",
     "output_type": "stream",
     "text": [
      "error with entry:  979\n"
     ]
    },
    {
     "name": "stderr",
     "output_type": "stream",
     "text": [
      " 48%|████▊     | 1088/2272 [40:47<1:08:13,  3.46s/it]"
     ]
    },
    {
     "name": "stdout",
     "output_type": "stream",
     "text": [
      "error with entry:  1087\n"
     ]
    },
    {
     "name": "stderr",
     "output_type": "stream",
     "text": [
      " 51%|█████     | 1160/2272 [43:41<59:56,  3.23s/it]  "
     ]
    },
    {
     "name": "stdout",
     "output_type": "stream",
     "text": [
      "error with entry:  1159\n"
     ]
    },
    {
     "name": "stderr",
     "output_type": "stream",
     "text": [
      " 53%|█████▎    | 1197/2272 [45:11<56:36,  3.16s/it]"
     ]
    },
    {
     "name": "stdout",
     "output_type": "stream",
     "text": [
      "error with entry:  1196\n"
     ]
    },
    {
     "name": "stderr",
     "output_type": "stream",
     "text": [
      " 62%|██████▏   | 1398/2272 [52:22<51:33,  3.54s/it]"
     ]
    },
    {
     "name": "stdout",
     "output_type": "stream",
     "text": [
      "error with entry:  1397\n"
     ]
    },
    {
     "name": "stderr",
     "output_type": "stream",
     "text": [
      " 66%|██████▋   | 1508/2272 [56:17<41:11,  3.23s/it]"
     ]
    },
    {
     "name": "stdout",
     "output_type": "stream",
     "text": [
      "error with entry:  1507\n"
     ]
    },
    {
     "name": "stderr",
     "output_type": "stream",
     "text": [
      " 69%|██████▉   | 1575/2272 [58:39<35:29,  3.05s/it]"
     ]
    },
    {
     "name": "stdout",
     "output_type": "stream",
     "text": [
      "error with entry:  1574\n"
     ]
    },
    {
     "name": "stderr",
     "output_type": "stream",
     "text": [
      " 70%|██████▉   | 1588/2272 [59:14<39:57,  3.50s/it]"
     ]
    },
    {
     "name": "stdout",
     "output_type": "stream",
     "text": [
      "error with entry:  1587\n"
     ]
    },
    {
     "name": "stderr",
     "output_type": "stream",
     "text": [
      " 70%|███████   | 1591/2272 [59:25<43:03,  3.79s/it]"
     ]
    },
    {
     "name": "stdout",
     "output_type": "stream",
     "text": [
      "error with entry:  1590\n"
     ]
    },
    {
     "name": "stderr",
     "output_type": "stream",
     "text": [
      " 72%|███████▏  | 1643/2272 [1:01:29<33:30,  3.20s/it]"
     ]
    },
    {
     "name": "stdout",
     "output_type": "stream",
     "text": [
      "error with entry:  1642\n"
     ]
    },
    {
     "name": "stderr",
     "output_type": "stream",
     "text": [
      " 74%|███████▍  | 1685/2272 [1:03:15<25:25,  2.60s/it]"
     ]
    },
    {
     "name": "stdout",
     "output_type": "stream",
     "text": [
      "error with entry:  1685\n"
     ]
    },
    {
     "name": "stderr",
     "output_type": "stream",
     "text": [
      " 74%|███████▍  | 1690/2272 [1:03:31<34:32,  3.56s/it]"
     ]
    },
    {
     "name": "stdout",
     "output_type": "stream",
     "text": [
      "error with entry:  1689\n"
     ]
    },
    {
     "name": "stderr",
     "output_type": "stream",
     "text": [
      " 75%|███████▍  | 1703/2272 [1:04:04<32:25,  3.42s/it]"
     ]
    },
    {
     "name": "stdout",
     "output_type": "stream",
     "text": [
      "error with entry:  1702\n"
     ]
    },
    {
     "name": "stderr",
     "output_type": "stream",
     "text": [
      " 76%|███████▌  | 1728/2272 [1:05:10<29:42,  3.28s/it]"
     ]
    },
    {
     "name": "stdout",
     "output_type": "stream",
     "text": [
      "error with entry:  1727\n"
     ]
    },
    {
     "name": "stderr",
     "output_type": "stream",
     "text": [
      " 78%|███████▊  | 1763/2272 [1:06:32<27:19,  3.22s/it]"
     ]
    },
    {
     "name": "stdout",
     "output_type": "stream",
     "text": [
      "error with entry:  1762\n"
     ]
    },
    {
     "name": "stderr",
     "output_type": "stream",
     "text": [
      " 78%|███████▊  | 1782/2272 [1:07:16<27:54,  3.42s/it]"
     ]
    },
    {
     "name": "stdout",
     "output_type": "stream",
     "text": [
      "error with entry:  1781\n"
     ]
    },
    {
     "name": "stderr",
     "output_type": "stream",
     "text": [
      " 80%|████████  | 1824/2272 [1:09:16<25:14,  3.38s/it]"
     ]
    },
    {
     "name": "stdout",
     "output_type": "stream",
     "text": [
      "error with entry:  1823\n"
     ]
    },
    {
     "name": "stderr",
     "output_type": "stream",
     "text": [
      " 87%|████████▋ | 1987/2272 [1:16:17<15:12,  3.20s/it]"
     ]
    },
    {
     "name": "stdout",
     "output_type": "stream",
     "text": [
      "error with entry:  1986\n"
     ]
    },
    {
     "name": "stderr",
     "output_type": "stream",
     "text": [
      " 89%|████████▊ | 2016/2272 [1:17:29<13:56,  3.27s/it]"
     ]
    },
    {
     "name": "stdout",
     "output_type": "stream",
     "text": [
      "error with entry:  2015\n"
     ]
    },
    {
     "name": "stderr",
     "output_type": "stream",
     "text": [
      " 89%|████████▉ | 2017/2272 [1:17:35<16:28,  3.88s/it]"
     ]
    },
    {
     "name": "stdout",
     "output_type": "stream",
     "text": [
      "error with entry:  2016\n"
     ]
    },
    {
     "name": "stderr",
     "output_type": "stream",
     "text": [
      " 89%|████████▉ | 2023/2272 [1:17:52<14:47,  3.56s/it]"
     ]
    },
    {
     "name": "stdout",
     "output_type": "stream",
     "text": [
      "error with entry:  2022\n"
     ]
    },
    {
     "name": "stderr",
     "output_type": "stream",
     "text": [
      " 93%|█████████▎| 2119/2272 [1:21:51<10:01,  3.93s/it]"
     ]
    },
    {
     "name": "stdout",
     "output_type": "stream",
     "text": [
      "error with entry:  2118\n"
     ]
    },
    {
     "name": "stderr",
     "output_type": "stream",
     "text": [
      " 94%|█████████▍| 2134/2272 [1:22:35<07:29,  3.26s/it]"
     ]
    },
    {
     "name": "stdout",
     "output_type": "stream",
     "text": [
      "error with entry:  2133\n"
     ]
    },
    {
     "name": "stderr",
     "output_type": "stream",
     "text": [
      " 96%|█████████▌| 2183/2272 [1:24:40<05:15,  3.55s/it]"
     ]
    },
    {
     "name": "stdout",
     "output_type": "stream",
     "text": [
      "error with entry:  2182\n"
     ]
    },
    {
     "name": "stderr",
     "output_type": "stream",
     "text": [
      " 97%|█████████▋| 2195/2272 [1:25:12<04:18,  3.36s/it]"
     ]
    },
    {
     "name": "stdout",
     "output_type": "stream",
     "text": [
      "error with entry:  2194\n"
     ]
    },
    {
     "name": "stderr",
     "output_type": "stream",
     "text": [
      " 97%|█████████▋| 2205/2272 [1:25:40<03:57,  3.55s/it]"
     ]
    },
    {
     "name": "stdout",
     "output_type": "stream",
     "text": [
      "error with entry:  2204\n"
     ]
    },
    {
     "name": "stderr",
     "output_type": "stream",
     "text": [
      "100%|██████████| 2272/2272 [1:28:16<00:00,  2.33s/it]\n"
     ]
    },
    {
     "data": {
      "text/plain": [
       "   Pieces   Manufacturer SubType                   HxType NominalEffectEach  \\\n",
       "0       1        Unknown    None    Isoleret varmeveksler              None   \n",
       "1       1        Unknown    None  Eksisterende fjernvarme              None   \n",
       "2       1        Unknown    None        Fjernvarmeveksler              None   \n",
       "3       1  Danfoss Redan    None    Isoleret varmeveksler              None   \n",
       "4       1        Unknown    None    Isoleret varmeveksler              None   \n",
       "\n",
       "         Year                                             S_text  \\\n",
       "0        None  Fjernvarme med isoleret veksler (indirekte anl...   \n",
       "1        None                            Eksisterende fjernvarme   \n",
       "2  After 1980  Fjernvarme med uisoleret veksler (indirekte an...   \n",
       "3        None  Fjernvarme med isoleret veksler (indirekte anl...   \n",
       "4        None  Fjernvarme med isoleret veksler (indirekte anl...   \n",
       "\n",
       "                                              L_text  \n",
       "0  Bygningen opvarmes med fjernvarme. Anlægget er...  \n",
       "1                                                NaN  \n",
       "2  Bygningen opvarmes med fjernvarme. Anlægget er...  \n",
       "3  Ejendommen opvarmes med fjernvarme fra HOFOR.\\...  \n",
       "4  Bygningen opvarmes med fjernvarme. Anlægget er...  "
      ],
      "text/html": [
       "<div>\n",
       "<style scoped>\n",
       "    .dataframe tbody tr th:only-of-type {\n",
       "        vertical-align: middle;\n",
       "    }\n",
       "\n",
       "    .dataframe tbody tr th {\n",
       "        vertical-align: top;\n",
       "    }\n",
       "\n",
       "    .dataframe thead th {\n",
       "        text-align: right;\n",
       "    }\n",
       "</style>\n",
       "<table border=\"1\" class=\"dataframe\">\n",
       "  <thead>\n",
       "    <tr style=\"text-align: right;\">\n",
       "      <th></th>\n",
       "      <th>Pieces</th>\n",
       "      <th>Manufacturer</th>\n",
       "      <th>SubType</th>\n",
       "      <th>HxType</th>\n",
       "      <th>NominalEffectEach</th>\n",
       "      <th>Year</th>\n",
       "      <th>S_text</th>\n",
       "      <th>L_text</th>\n",
       "    </tr>\n",
       "  </thead>\n",
       "  <tbody>\n",
       "    <tr>\n",
       "      <th>0</th>\n",
       "      <td>1</td>\n",
       "      <td>Unknown</td>\n",
       "      <td>None</td>\n",
       "      <td>Isoleret varmeveksler</td>\n",
       "      <td>None</td>\n",
       "      <td>None</td>\n",
       "      <td>Fjernvarme med isoleret veksler (indirekte anl...</td>\n",
       "      <td>Bygningen opvarmes med fjernvarme. Anlægget er...</td>\n",
       "    </tr>\n",
       "    <tr>\n",
       "      <th>1</th>\n",
       "      <td>1</td>\n",
       "      <td>Unknown</td>\n",
       "      <td>None</td>\n",
       "      <td>Eksisterende fjernvarme</td>\n",
       "      <td>None</td>\n",
       "      <td>None</td>\n",
       "      <td>Eksisterende fjernvarme</td>\n",
       "      <td>NaN</td>\n",
       "    </tr>\n",
       "    <tr>\n",
       "      <th>2</th>\n",
       "      <td>1</td>\n",
       "      <td>Unknown</td>\n",
       "      <td>None</td>\n",
       "      <td>Fjernvarmeveksler</td>\n",
       "      <td>None</td>\n",
       "      <td>After 1980</td>\n",
       "      <td>Fjernvarme med uisoleret veksler (indirekte an...</td>\n",
       "      <td>Bygningen opvarmes med fjernvarme. Anlægget er...</td>\n",
       "    </tr>\n",
       "    <tr>\n",
       "      <th>3</th>\n",
       "      <td>1</td>\n",
       "      <td>Danfoss Redan</td>\n",
       "      <td>None</td>\n",
       "      <td>Isoleret varmeveksler</td>\n",
       "      <td>None</td>\n",
       "      <td>None</td>\n",
       "      <td>Fjernvarme med isoleret veksler (indirekte anl...</td>\n",
       "      <td>Ejendommen opvarmes med fjernvarme fra HOFOR.\\...</td>\n",
       "    </tr>\n",
       "    <tr>\n",
       "      <th>4</th>\n",
       "      <td>1</td>\n",
       "      <td>Unknown</td>\n",
       "      <td>None</td>\n",
       "      <td>Isoleret varmeveksler</td>\n",
       "      <td>None</td>\n",
       "      <td>None</td>\n",
       "      <td>Fjernvarme med isoleret veksler (indirekte anl...</td>\n",
       "      <td>Bygningen opvarmes med fjernvarme. Anlægget er...</td>\n",
       "    </tr>\n",
       "  </tbody>\n",
       "</table>\n",
       "</div>"
      ]
     },
     "execution_count": 13,
     "metadata": {},
     "output_type": "execute_result"
    }
   ],
   "execution_count": 13
  },
  {
   "metadata": {
    "ExecuteTime": {
     "end_time": "2025-07-14T07:59:22.275722Z",
     "start_time": "2025-07-14T07:59:22.235478Z"
    }
   },
   "cell_type": "code",
   "source": [
    "import sys\n",
    "\n",
    "sys.path.append(\"../scripts\")\n",
    "from data_from_xlsx import to_csv\n",
    "\n",
    "to_csv(res_dataframe, \"chatbot_predictions\")\n"
   ],
   "id": "55412b3d61470d7a",
   "outputs": [],
   "execution_count": 15
  },
  {
   "metadata": {
    "ExecuteTime": {
     "end_time": "2025-07-14T08:07:43.801462Z",
     "start_time": "2025-07-14T08:07:43.797942Z"
    }
   },
   "cell_type": "code",
   "source": "print(len(errors))",
   "id": "968ec20604a3a399",
   "outputs": [
    {
     "name": "stdout",
     "output_type": "stream",
     "text": [
      "40\n"
     ]
    }
   ],
   "execution_count": 16
  },
  {
   "metadata": {},
   "cell_type": "code",
   "outputs": [],
   "execution_count": null,
   "source": "",
   "id": "ab376011f55900fe"
  }
 ],
 "metadata": {},
 "nbformat": 4,
 "nbformat_minor": 5
}

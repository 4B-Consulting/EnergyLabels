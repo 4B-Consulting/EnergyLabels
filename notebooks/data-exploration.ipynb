{
 "cells": [
  {
   "metadata": {},
   "cell_type": "markdown",
   "source": [
    "# Data Exploration\n",
    "\n",
    "## Data Import"
   ],
   "id": "7b5f8513f19fc98e"
  },
  {
   "metadata": {
    "ExecuteTime": {
     "end_time": "2025-07-07T22:41:21.712537Z",
     "start_time": "2025-07-07T22:41:21.706103Z"
    }
   },
   "cell_type": "code",
   "source": [
    "import pandas as pd\n",
    "import numpy as np"
   ],
   "id": "7f0d41cc366b9f27",
   "outputs": [],
   "execution_count": 75
  },
  {
   "metadata": {
    "ExecuteTime": {
     "end_time": "2025-07-07T22:41:22.427649Z",
     "start_time": "2025-07-07T22:41:21.786215Z"
    }
   },
   "cell_type": "code",
   "source": [
    "d_hjorring = pd.read_excel(\"../data/data_district_heating.xlsx\", sheet_name=\"Hjorring\")\n",
    "print(d_hjorring.head())"
   ],
   "id": "9cf23215504a6969",
   "outputs": [
    {
     "name": "stdout",
     "output_type": "stream",
     "text": [
      "    SerialID  building_id  zone_id     SEEB  \\\n",
      "0  311487854            0        0  2-1-3-0   \n",
      "1  311235119            0        0  2-1-3-0   \n",
      "2  311235135            0        0  2-1-3-0   \n",
      "3  311235144            0        0  2-1-3-0   \n",
      "4  311488415            0        0  2-1-3-0   \n",
      "\n",
      "                                    S_text  \\\n",
      "0        Fjernvarme uden veksler - direkte   \n",
      "1  Fjernvarme uden veksler (direkte anlæg)   \n",
      "2  Fjernvarme uden veksler (direkte anlæg)   \n",
      "3  Fjernvarme uden veksler (direkte anlæg)   \n",
      "4        Fjernvarme uden veksler - direkte   \n",
      "\n",
      "                                              L_text                Type  \\\n",
      "0  Bygningen opvarmes med fjernvarme. Anlægget er...  DirectDistrictHeat   \n",
      "1  Ejendommen opvarmes med fjernvarme, og anlægge...  DirectDistrictHeat   \n",
      "2  Bygningen opvarmes med fjernvarme. Anlægget er...  DirectDistrictHeat   \n",
      "3  Bygningen opvarmes med fjernvarme. Anlægget er...  DirectDistrictHeat   \n",
      "4  Bygningen opvarmes med fjernvarme. Anlægget er...  DirectDistrictHeat   \n",
      "\n",
      "   IsPrimary  Fuel  FuelPrice  YearlySubscriptionPrice      SubscriptionUnit  \\\n",
      "0       True   NaN        NaN                  1171.25  BBRAreaInSqareMeters   \n",
      "1       True   NaN        NaN                  2487.50  BBRAreaInSqareMeters   \n",
      "2       True   NaN        NaN                     0.00             Specified   \n",
      "3       True   NaN        NaN                     0.00             Specified   \n",
      "4       True   NaN        NaN                     0.00             Specified   \n",
      "\n",
      "   PricePerSubscriptionUnit  SpecifiedSubscriptionUnitAmount  \\\n",
      "0                     31.25                            112.0   \n",
      "1                     18.65                            210.0   \n",
      "2                    200.00                              0.0   \n",
      "3                    200.00                              0.0   \n",
      "4                    220.63                              0.0   \n",
      "\n",
      "                            DistrictHeatingPlantName  \n",
      "0  Bindslev Varmeværk A.m.b.a. - Boliger - 0-160 ...  \n",
      "1  Løkken Varmeværk A.m.b.a. - 201-400 m² (19-01-...  \n",
      "2               Hjørring Varmeforsyning (19-01-2016)  \n",
      "3               Hjørring Varmeforsyning (19-01-2016)  \n",
      "4               Hjørring Varmeforsyning (13-02-2020)  \n"
     ]
    }
   ],
   "execution_count": 76
  },
  {
   "metadata": {
    "ExecuteTime": {
     "end_time": "2025-07-07T22:41:22.660828Z",
     "start_time": "2025-07-07T22:41:22.446750Z"
    }
   },
   "cell_type": "code",
   "source": [
    "d_favrskov = pd.read_excel(\"../data/data_district_heating.xlsx\", sheet_name=\"Favrskov\")\n",
    "print(d_favrskov.head())"
   ],
   "id": "8d6b0790c7a1f956",
   "outputs": [
    {
     "name": "stdout",
     "output_type": "stream",
     "text": [
      "    SerialID  building_id  zone_id     SEEB  \\\n",
      "0  311239024            0        0  2-1-3-0   \n",
      "1  311239047            0        0  2-1-3-0   \n",
      "2  311239049            0        0  2-1-3-0   \n",
      "3  311244995            0        0  2-1-3-0   \n",
      "4  311251256            0        0  2-1-3-0   \n",
      "\n",
      "                                    S_text  \\\n",
      "0  Fjernvarme uden veksler (direkte anlæg)   \n",
      "1  Fjernvarme uden veksler (direkte anlæg)   \n",
      "2  Fjernvarme uden veksler (direkte anlæg)   \n",
      "3  Fjernvarme uden veksler (direkte anlæg)   \n",
      "4  Fjernvarme uden veksler (direkte anlæg)   \n",
      "\n",
      "                                              L_text                Type  \\\n",
      "0  Bygningen opvarmes med fjernvarme. Anlægget er...  DirectDistrictHeat   \n",
      "1  Bygningen opvarmes med fjernvarme. Anlægget er...  DirectDistrictHeat   \n",
      "2  Bygningen opvarmes med fjernvarme. Anlægget er...  DirectDistrictHeat   \n",
      "3  Bygningen opvarmes med fjernvarme. Anlægget er...  DirectDistrictHeat   \n",
      "4  :Klynge A, B, C og D:\\nBygningerne opvarmes me...  DirectDistrictHeat   \n",
      "\n",
      "   IsPrimary  Fuel  FuelPrice  YearlySubscriptionPrice      SubscriptionUnit  \\\n",
      "0       True   NaN        NaN                  -1250.0  BBRAreaInSqareMeters   \n",
      "1       True   NaN        NaN                  -1250.0  BBRAreaInSqareMeters   \n",
      "2       True   NaN        NaN                   3750.0                   NaN   \n",
      "3       True   NaN        NaN                   3750.0                   NaN   \n",
      "4       True   NaN        NaN                   3562.5  BBRAreaInSqareMeters   \n",
      "\n",
      "   PricePerSubscriptionUnit  SpecifiedSubscriptionUnitAmount  \\\n",
      "0                      25.0                           2364.0   \n",
      "1                      25.0                           5746.0   \n",
      "2                       0.0                              0.0   \n",
      "3                       0.0                              0.0   \n",
      "4                      25.0                           1152.0   \n",
      "\n",
      "                            DistrictHeatingPlantName  \n",
      "0  Hadsten Varmeværk A.m.b.A. - Over 200 m² (22-0...  \n",
      "1  Hadsten Varmeværk A.m.b.A. - Over 200 m² (22-0...  \n",
      "2  Hadsten Varmeværk A.m.b.A. - 0-200 m² (22-01-2...  \n",
      "3  Hadsten Varmeværk A.m.b.A. - 0-200 m² (22-01-2...  \n",
      "4  Hadsten Varmeværk A.m.b.A. - Over 200 m² (07-0...  \n"
     ]
    }
   ],
   "execution_count": 77
  },
  {
   "metadata": {
    "ExecuteTime": {
     "end_time": "2025-07-07T22:41:24.629004Z",
     "start_time": "2025-07-07T22:41:22.681798Z"
    }
   },
   "cell_type": "code",
   "source": [
    "d_aarhus = pd.read_excel(\"../data/data_district_heating.xlsx\", sheet_name=\"Aarhus\")\n",
    "print(d_aarhus.head())"
   ],
   "id": "6a6cf9ff962d6f3c",
   "outputs": [
    {
     "name": "stdout",
     "output_type": "stream",
     "text": [
      "    SerialID  building_id  zone_id     SEEB  \\\n",
      "0  311075771            0        0  2-1-3-0   \n",
      "1  311075781            0        0  2-1-3-0   \n",
      "2  311075799            0        0  2-1-3-0   \n",
      "3  311075871            0        0  2-1-3-0   \n",
      "4  311075881            0        0  2-1-3-0   \n",
      "\n",
      "                                    S_text  \\\n",
      "0  Fjernvarme uden veksler (direkte anlæg)   \n",
      "1  Fjernvarme uden veksler (direkte anlæg)   \n",
      "2  Fjernvarme uden veksler (direkte anlæg)   \n",
      "3  Fjernvarme uden veksler (direkte anlæg)   \n",
      "4                       Direkte fjernvarme   \n",
      "\n",
      "                                              L_text                Type  \\\n",
      "0  Ejendommen opvarmes med fjernvarme, og anlægge...  DirectDistrictHeat   \n",
      "1  Bygningen opvarmes med fjernvarme. Anlægget er...  DirectDistrictHeat   \n",
      "2  Bygningen opvarmes med fjernvarme. Anlægget er...  DirectDistrictHeat   \n",
      "3                                                NaN  DirectDistrictHeat   \n",
      "4                                                NaN  DirectDistrictHeat   \n",
      "\n",
      "   IsPrimary  Fuel  FuelPrice  YearlySubscriptionPrice      SubscriptionUnit  \\\n",
      "0       True   NaN        NaN                    750.0  BBRAreaInSqareMeters   \n",
      "1       True   NaN        NaN                    750.0  BBRAreaInSqareMeters   \n",
      "2       True   NaN        NaN                    750.0  BBRAreaInSqareMeters   \n",
      "3       True   NaN        NaN                   1705.0  BBRAreaInSqareMeters   \n",
      "4       True   NaN        NaN                   3750.0  BBRAreaInSqareMeters   \n",
      "\n",
      "   PricePerSubscriptionUnit  SpecifiedSubscriptionUnitAmount  \\\n",
      "0                      15.5                            103.0   \n",
      "1                      15.5                            113.0   \n",
      "2                      15.5                            120.0   \n",
      "3                      15.5                           2120.0   \n",
      "4                      15.5                            685.0   \n",
      "\n",
      "          DistrictHeatingPlantName  \n",
      "0  Affaldvarme Aarhus - 1,5 - 3 QP  \n",
      "1  Affaldvarme Aarhus - 1,5 - 3 QP  \n",
      "2  Affaldvarme Aarhus - 1,5 - 3 QP  \n",
      "3        Affaldvarme Aarhus - 6 QP  \n",
      "4  Affaldvarme Aarhus - 1,5 - 3 QP  \n"
     ]
    }
   ],
   "execution_count": 78
  },
  {
   "metadata": {
    "ExecuteTime": {
     "end_time": "2025-07-07T22:41:25.102856Z",
     "start_time": "2025-07-07T22:41:24.662645Z"
    }
   },
   "cell_type": "code",
   "source": [
    "d_gt = pd.read_excel(\"../data/data_district_heating.xlsx\", sheet_name=\"Ground Truth\")\n",
    "print(d_gt.head())"
   ],
   "id": "2d780ba37700089c",
   "outputs": [
    {
     "name": "stdout",
     "output_type": "stream",
     "text": [
      "    SerialID  building_id  zone_id     SEEB  \\\n",
      "0  311117034            0        0  2-1-3-0   \n",
      "1  311117893      2050872  2050872  2-1-3-0   \n",
      "2  311119019            0        0  2-1-3-0   \n",
      "3  311121828            0        0  2-1-3-0   \n",
      "4  311122000            0        0  2-1-3-0   \n",
      "\n",
      "                                              S_text  \\\n",
      "0  Fjernvarme med isoleret veksler (indirekte anl...   \n",
      "1                            Eksisterende fjernvarme   \n",
      "2  Fjernvarme med uisoleret veksler (indirekte an...   \n",
      "3  Fjernvarme med isoleret veksler (indirekte anl...   \n",
      "4  Fjernvarme med isoleret veksler (indirekte anl...   \n",
      "\n",
      "                                              L_text  \\\n",
      "0  Bygningen opvarmes med fjernvarme. Anlægget er...   \n",
      "1                                                NaN   \n",
      "2  Bygningen opvarmes med fjernvarme. Anlægget er...   \n",
      "3  Ejendommen opvarmes med fjernvarme fra HOFOR.\\...   \n",
      "4  Bygningen opvarmes med fjernvarme. Anlægget er...   \n",
      "\n",
      "                        Type  Pieces1  Manufacturer1 SubType1  ...  \\\n",
      "0  DistrictHeatWithExchanger      1.0        Unknown      NaN  ...   \n",
      "1  DistrictHeatWithExchanger      1.0        Unknown      NaN  ...   \n",
      "2  DistrictHeatWithExchanger      1.0        Unknown      NaN  ...   \n",
      "3  DistrictHeatWithExchanger      1.0  Danfoss Redan      NaN  ...   \n",
      "4  DistrictHeatWithExchanger      1.0        Unknown      NaN  ...   \n",
      "\n",
      "       SubscriptionUnit PricePerSubscriptionUnit  \\\n",
      "0             Specified                   211.98   \n",
      "1             Specified                     0.00   \n",
      "2             Specified                   211.98   \n",
      "3  BBRAreaInSqareMeters                    20.00   \n",
      "4             Specified                   211.98   \n",
      "\n",
      "  SpecifiedSubscriptionUnitAmount  \\\n",
      "0                            15.0   \n",
      "1                             0.0   \n",
      "2                           190.0   \n",
      "3                           502.0   \n",
      "4                            25.0   \n",
      "\n",
      "                       DistrictHeatingPlantName HeatLoss BFactor  \\\n",
      "0  HOFOR (Københavns Energi) - MWh (04-07-2014)      1.1     0.0   \n",
      "1                   Københavns Energi MWh (293)      1.5     0.7   \n",
      "2  HOFOR (Københavns Energi) - MWh (04-07-2014)      5.0     0.0   \n",
      "3  HOFOR (Københavns Energi) - MWh (04-07-2014)      1.1     0.0   \n",
      "4  HOFOR (Københavns Energi) - MWh (04-07-2014)      7.0     0.0   \n",
      "\n",
      "  NominalEffect MinimumTemperature StandbyPowerUsage  HeatsHotWater  \n",
      "0          20.0               60.0               0.0            1.0  \n",
      "1          16.0                0.0               5.0            0.0  \n",
      "2          20.0               65.0               0.0            0.0  \n",
      "3          60.0               60.0               0.0            0.0  \n",
      "4          20.0               65.0               0.0            0.0  \n",
      "\n",
      "[5 rows x 42 columns]\n"
     ]
    }
   ],
   "execution_count": 79
  },
  {
   "metadata": {},
   "cell_type": "markdown",
   "source": "## Data Size",
   "id": "2ad48d3fdbd70771"
  },
  {
   "metadata": {
    "ExecuteTime": {
     "end_time": "2025-07-07T22:41:25.127905Z",
     "start_time": "2025-07-07T22:41:25.124419Z"
    }
   },
   "cell_type": "code",
   "source": [
    "print(\"Data Favrskov shape: \", d_favrskov.shape)\n",
    "print(\"Data Hjorring shape: \", d_hjorring.shape)\n",
    "print(\"Data Aarhus shape: \", d_aarhus.shape)\n",
    "print(\"Data Ground Truth shape: \", d_gt.shape)"
   ],
   "id": "bfc1723800b9ce45",
   "outputs": [
    {
     "name": "stdout",
     "output_type": "stream",
     "text": [
      "Data Favrskov shape:  (111, 15)\n",
      "Data Hjorring shape:  (6138, 15)\n",
      "Data Aarhus shape:  (29542, 15)\n",
      "Data Ground Truth shape:  (2272, 42)\n"
     ]
    }
   ],
   "execution_count": 80
  },
  {
   "metadata": {},
   "cell_type": "markdown",
   "source": "Let's merge the dataset on the SerialID to check whether the ground truth data are present in the rest of the samples.",
   "id": "b921737a06a2489b"
  },
  {
   "metadata": {
    "ExecuteTime": {
     "end_time": "2025-07-07T22:41:25.184049Z",
     "start_time": "2025-07-07T22:41:25.161877Z"
    }
   },
   "cell_type": "code",
   "source": [
    "d_f_gt = pd.merge(left=d_favrskov, right=d_gt, on=\"SerialID\")\n",
    "d_h_gt = pd.merge(left=d_hjorring, right=d_gt, on=\"SerialID\")\n",
    "d_a_gt = pd.merge(left=d_aarhus, right=d_gt, on=\"SerialID\")\n",
    "print(d_f_gt.shape)\n",
    "print(d_h_gt.shape)\n",
    "print(d_a_gt.shape)"
   ],
   "id": "c9f440d1e4a9bb15",
   "outputs": [
    {
     "name": "stdout",
     "output_type": "stream",
     "text": [
      "(0, 56)\n",
      "(0, 56)\n",
      "(0, 56)\n"
     ]
    }
   ],
   "execution_count": 81
  },
  {
   "metadata": {},
   "cell_type": "markdown",
   "source": [
    "From the previous result, we can say that the ground truth is not present in data.\n",
    "Thus we have 2272 labeled entries."
   ],
   "id": "27530463e49c9f0"
  },
  {
   "metadata": {
    "ExecuteTime": {
     "end_time": "2025-07-07T22:41:25.214012Z",
     "start_time": "2025-07-07T22:41:25.210775Z"
    }
   },
   "cell_type": "code",
   "source": "print(d_favrskov.shape[0] + d_hjorring.shape[0] + d_aarhus.shape[0])",
   "id": "6da40b3ddb402c34",
   "outputs": [
    {
     "name": "stdout",
     "output_type": "stream",
     "text": [
      "35791\n"
     ]
    }
   ],
   "execution_count": 82
  },
  {
   "metadata": {},
   "cell_type": "markdown",
   "source": "On the other hand, we have 35791 entries we want to label.",
   "id": "64fc4e9e92967ffe"
  },
  {
   "metadata": {},
   "cell_type": "markdown",
   "source": "## Features of the Ground Truths",
   "id": "37440e61425e76cf"
  },
  {
   "metadata": {
    "ExecuteTime": {
     "end_time": "2025-07-07T22:41:25.249481Z",
     "start_time": "2025-07-07T22:41:25.244093Z"
    }
   },
   "cell_type": "code",
   "source": "print(d_gt[d_gt['SerialID'] == 311795931].iloc[0])",
   "id": "1d8f651b5bf714d2",
   "outputs": [
    {
     "name": "stdout",
     "output_type": "stream",
     "text": [
      "SerialID                                                                   311795931\n",
      "building_id                                                                        0\n",
      "zone_id                                                                            0\n",
      "SEEB                                                                         2-1-3-0\n",
      "S_text                                                           Fjernvarmeforsyning\n",
      "L_text                             Forsyningsformen er fjernvarme som leveres af ...\n",
      "Type                                                       DistrictHeatWithExchanger\n",
      "Pieces1                                                                          2.0\n",
      "Manufacturer1                                                                   Reci\n",
      "SubType1                                                                       VT 90\n",
      "HxType1                                                                   Rørveksler\n",
      "NominelEffectEach1                                             300 kW (total 600 kW)\n",
      "Year1                                                                           1984\n",
      "Pieces2                                                                          3.0\n",
      "Manufacturer2                                                                   Reci\n",
      "SubType2                                                                       VT240\n",
      "HxType2                                                                   Rørveksler\n",
      "NominelEffectEach2                                            750 kW (total 2200 kW)\n",
      "Year2                                                                           1984\n",
      "Pieces3                                                                          2.0\n",
      "Manufacturer3                                                                   Reci\n",
      "SubType3                                                                       VT120\n",
      "HxType3                                                                   Rørveksler\n",
      "NominelEffectEach3                                             400 kW (total 800 kW)\n",
      "Year3                                                                         1984.0\n",
      "Pieces4                                                                          1.0\n",
      "Manufacturer4                                                                Unknown\n",
      "SubType4                                                                         NaN\n",
      "HxType4                                                        Isoleret pladeveksler\n",
      "NominelEffectEach4                                                               NaN\n",
      "Year4                                                                            NaN\n",
      "YearlySubscriptionPrice                                                          0.0\n",
      "SubscriptionUnit                                                           Specified\n",
      "PricePerSubscriptionUnit                                                      263.64\n",
      "SpecifiedSubscriptionUnitAmount                                               4460.0\n",
      "DistrictHeatingPlantName                HOFOR (Københavns Energi) - MWh (11-01-2024)\n",
      "HeatLoss                                                                         3.2\n",
      "BFactor                                                                          0.0\n",
      "NominalEffect                                                                 4200.0\n",
      "MinimumTemperature                                                              65.0\n",
      "StandbyPowerUsage                                                             7200.0\n",
      "HeatsHotWater                                                                    0.0\n",
      "Name: 2126, dtype: object\n"
     ]
    }
   ],
   "execution_count": 83
  },
  {
   "metadata": {
    "ExecuteTime": {
     "end_time": "2025-07-07T22:41:25.294728Z",
     "start_time": "2025-07-07T22:41:25.290513Z"
    }
   },
   "cell_type": "code",
   "source": [
    "d_gt_labels = d_gt.iloc[:, 7:31]\n",
    "print(d_gt_labels.columns)\n",
    "print(\"Number of lables: \", d_gt_labels.shape[1])"
   ],
   "id": "a9062535beb0eaf4",
   "outputs": [
    {
     "name": "stdout",
     "output_type": "stream",
     "text": [
      "Index(['Pieces1', 'Manufacturer1', 'SubType1', 'HxType1', 'NominelEffectEach1',\n",
      "       'Year1', 'Pieces2', 'Manufacturer2', 'SubType2', 'HxType2',\n",
      "       'NominelEffectEach2', 'Year2', 'Pieces3', 'Manufacturer3', 'SubType3',\n",
      "       'HxType3', 'NominelEffectEach3', 'Year3', 'Pieces4', 'Manufacturer4',\n",
      "       'SubType4', 'HxType4', 'NominelEffectEach4', 'Year4'],\n",
      "      dtype='object')\n",
      "Number of lables:  24\n"
     ]
    }
   ],
   "execution_count": 84
  },
  {
   "metadata": {
    "ExecuteTime": {
     "end_time": "2025-07-07T22:41:25.328023Z",
     "start_time": "2025-07-07T22:41:25.323328Z"
    }
   },
   "cell_type": "code",
   "source": "print(d_gt_labels.isnull().mean() * 100)",
   "id": "88a5d6af357ef08f",
   "outputs": [
    {
     "name": "stdout",
     "output_type": "stream",
     "text": [
      "Pieces1                 0.000000\n",
      "Manufacturer1           0.000000\n",
      "SubType1               82.394366\n",
      "HxType1                 7.262324\n",
      "NominelEffectEach1     92.561620\n",
      "Year1                  58.846831\n",
      "Pieces2                95.774648\n",
      "Manufacturer2          95.730634\n",
      "SubType2               96.830986\n",
      "HxType2                96.082746\n",
      "NominelEffectEach2     99.691901\n",
      "Year2                  96.390845\n",
      "Pieces3                99.647887\n",
      "Manufacturer3          99.647887\n",
      "SubType3               99.779930\n",
      "HxType3                99.647887\n",
      "NominelEffectEach3     99.911972\n",
      "Year3                  99.691901\n",
      "Pieces4                99.735915\n",
      "Manufacturer4          99.735915\n",
      "SubType4               99.823944\n",
      "HxType4                99.735915\n",
      "NominelEffectEach4    100.000000\n",
      "Year4                  99.823944\n",
      "dtype: float64\n"
     ]
    }
   ],
   "execution_count": 85
  },
  {
   "metadata": {},
   "cell_type": "markdown",
   "source": [
    "From the previous result, we know that every entry has informations about `Pieces1` and `Manufacturer1`.\n",
    "We can see that `NominalEffectEach4` is always empty, and thus we do not have information about this column.\n",
    "Finally, we can see that data are very sparse, indeed very few columns are filled."
   ],
   "id": "a38514232142bbf0"
  },
  {
   "metadata": {
    "ExecuteTime": {
     "end_time": "2025-07-07T22:41:25.355848Z",
     "start_time": "2025-07-07T22:41:25.350623Z"
    }
   },
   "cell_type": "code",
   "source": [
    "null_counts = d_gt_labels.isnull().sum(axis=1)\n",
    "missing_values = null_counts.value_counts()\n",
    "\n",
    "missing_index = np.array(missing_values.index)\n",
    "missing_index.sort()\n",
    "missing_values = np.array(missing_values[missing_index])\n",
    "missing_values_cum = np.cumsum(missing_values)\n",
    "percentages = missing_values_cum / missing_values_cum[-1] * 100\n",
    "\n",
    "for i in range(missing_index.shape[0]):\n",
    "    print(\"Number of entries: \", missing_values_cum[i], f\"\\tCorresponding percentage: {percentages[i]:.3f} No more than {missing_index[i]} entries missing\")"
   ],
   "id": "fd8e2158d0732c6b",
   "outputs": [
    {
     "name": "stdout",
     "output_type": "stream",
     "text": [
      "Number of entries:  1 \tCorresponding percentage: 0.044 No more than 3 entries missing\n",
      "Number of entries:  5 \tCorresponding percentage: 0.220 No more than 6 entries missing\n",
      "Number of entries:  6 \tCorresponding percentage: 0.264 No more than 7 entries missing\n",
      "Number of entries:  7 \tCorresponding percentage: 0.308 No more than 8 entries missing\n",
      "Number of entries:  8 \tCorresponding percentage: 0.352 No more than 10 entries missing\n",
      "Number of entries:  10 \tCorresponding percentage: 0.440 No more than 12 entries missing\n",
      "Number of entries:  61 \tCorresponding percentage: 2.685 No more than 13 entries missing\n",
      "Number of entries:  65 \tCorresponding percentage: 2.861 No more than 14 entries missing\n",
      "Number of entries:  85 \tCorresponding percentage: 3.741 No more than 16 entries missing\n",
      "Number of entries:  90 \tCorresponding percentage: 3.961 No more than 17 entries missing\n",
      "Number of entries:  164 \tCorresponding percentage: 7.218 No more than 18 entries missing\n",
      "Number of entries:  396 \tCorresponding percentage: 17.430 No more than 19 entries missing\n",
      "Number of entries:  998 \tCorresponding percentage: 43.926 No more than 20 entries missing\n",
      "Number of entries:  2140 \tCorresponding percentage: 94.190 No more than 21 entries missing\n",
      "Number of entries:  2272 \tCorresponding percentage: 100.000 No more than 22 entries missing\n"
     ]
    }
   ],
   "execution_count": 86
  },
  {
   "metadata": {
    "ExecuteTime": {
     "end_time": "2025-07-07T23:17:36.885760Z",
     "start_time": "2025-07-07T23:17:36.876538Z"
    }
   },
   "cell_type": "code",
   "source": [
    "print(f\"Average length of S_text: {d_gt['S_text'].str.len().mean():.2f}\\t standard deviation: {d_gt['S_text'].str.len().std():.2f}\")\n",
    "print(f\"Average length of L_text: {d_gt['L_text'].str.len().mean():.2f} standard deviation: {d_gt['L_text'].str.len().std():.2f}\")"
   ],
   "id": "8ae1da8dfdb05874",
   "outputs": [
    {
     "name": "stdout",
     "output_type": "stream",
     "text": [
      "Average length of S_text: 48.65\t standard deviation: 14.20\n",
      "Average length of L_text: 195.77 standard deviation: 175.14\n"
     ]
    }
   ],
   "execution_count": 100
  }
 ],
 "metadata": {},
 "nbformat": 4,
 "nbformat_minor": 5
}

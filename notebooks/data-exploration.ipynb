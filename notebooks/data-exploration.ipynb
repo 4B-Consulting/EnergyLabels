{
 "cells": [
  {
   "metadata": {},
   "cell_type": "markdown",
   "source": [
    "# Data Exploration\n",
    "\n",
    "## Data Import"
   ],
   "id": "7b5f8513f19fc98e"
  },
  {
   "metadata": {
    "ExecuteTime": {
     "end_time": "2025-07-21T00:39:13.958200Z",
     "start_time": "2025-07-21T00:39:13.661371Z"
    }
   },
   "cell_type": "code",
   "source": [
    "import numpy as np\n",
    "import pandas as pd\n"
   ],
   "id": "7f0d41cc366b9f27",
   "outputs": [],
   "execution_count": 1
  },
  {
   "metadata": {
    "ExecuteTime": {
     "end_time": "2025-07-21T00:39:14.711473Z",
     "start_time": "2025-07-21T00:39:14.041578Z"
    }
   },
   "cell_type": "code",
   "source": [
    "d_hjorring = pd.read_excel(\"../data/data_district_heating.xlsx\", sheet_name=\"Hjorring\")\n",
    "print(d_hjorring.head())"
   ],
   "id": "9cf23215504a6969",
   "outputs": [
    {
     "name": "stdout",
     "output_type": "stream",
     "text": [
      "    SerialID  building_id  zone_id     SEEB  \\\n",
      "0  311487854            0        0  2-1-3-0   \n",
      "1  311235119            0        0  2-1-3-0   \n",
      "2  311235135            0        0  2-1-3-0   \n",
      "3  311235144            0        0  2-1-3-0   \n",
      "4  311488415            0        0  2-1-3-0   \n",
      "\n",
      "                                    S_text  \\\n",
      "0        Fjernvarme uden veksler - direkte   \n",
      "1  Fjernvarme uden veksler (direkte anlæg)   \n",
      "2  Fjernvarme uden veksler (direkte anlæg)   \n",
      "3  Fjernvarme uden veksler (direkte anlæg)   \n",
      "4        Fjernvarme uden veksler - direkte   \n",
      "\n",
      "                                              L_text                Type  \\\n",
      "0  Bygningen opvarmes med fjernvarme. Anlægget er...  DirectDistrictHeat   \n",
      "1  Ejendommen opvarmes med fjernvarme, og anlægge...  DirectDistrictHeat   \n",
      "2  Bygningen opvarmes med fjernvarme. Anlægget er...  DirectDistrictHeat   \n",
      "3  Bygningen opvarmes med fjernvarme. Anlægget er...  DirectDistrictHeat   \n",
      "4  Bygningen opvarmes med fjernvarme. Anlægget er...  DirectDistrictHeat   \n",
      "\n",
      "   IsPrimary  Fuel  FuelPrice  YearlySubscriptionPrice      SubscriptionUnit  \\\n",
      "0       True   NaN        NaN                  1171.25  BBRAreaInSqareMeters   \n",
      "1       True   NaN        NaN                  2487.50  BBRAreaInSqareMeters   \n",
      "2       True   NaN        NaN                     0.00             Specified   \n",
      "3       True   NaN        NaN                     0.00             Specified   \n",
      "4       True   NaN        NaN                     0.00             Specified   \n",
      "\n",
      "   PricePerSubscriptionUnit  SpecifiedSubscriptionUnitAmount  \\\n",
      "0                     31.25                            112.0   \n",
      "1                     18.65                            210.0   \n",
      "2                    200.00                              0.0   \n",
      "3                    200.00                              0.0   \n",
      "4                    220.63                              0.0   \n",
      "\n",
      "                            DistrictHeatingPlantName  \n",
      "0  Bindslev Varmeværk A.m.b.a. - Boliger - 0-160 ...  \n",
      "1  Løkken Varmeværk A.m.b.a. - 201-400 m² (19-01-...  \n",
      "2               Hjørring Varmeforsyning (19-01-2016)  \n",
      "3               Hjørring Varmeforsyning (19-01-2016)  \n",
      "4               Hjørring Varmeforsyning (13-02-2020)  \n"
     ]
    }
   ],
   "execution_count": 2
  },
  {
   "metadata": {
    "ExecuteTime": {
     "end_time": "2025-07-21T00:39:14.934316Z",
     "start_time": "2025-07-21T00:39:14.724182Z"
    }
   },
   "cell_type": "code",
   "source": [
    "d_favrskov = pd.read_excel(\"../data/data_district_heating.xlsx\", sheet_name=\"Favrskov\")\n",
    "print(d_favrskov.head())"
   ],
   "id": "8d6b0790c7a1f956",
   "outputs": [
    {
     "name": "stdout",
     "output_type": "stream",
     "text": [
      "    SerialID  building_id  zone_id     SEEB  \\\n",
      "0  311239024            0        0  2-1-3-0   \n",
      "1  311239047            0        0  2-1-3-0   \n",
      "2  311239049            0        0  2-1-3-0   \n",
      "3  311244995            0        0  2-1-3-0   \n",
      "4  311251256            0        0  2-1-3-0   \n",
      "\n",
      "                                    S_text  \\\n",
      "0  Fjernvarme uden veksler (direkte anlæg)   \n",
      "1  Fjernvarme uden veksler (direkte anlæg)   \n",
      "2  Fjernvarme uden veksler (direkte anlæg)   \n",
      "3  Fjernvarme uden veksler (direkte anlæg)   \n",
      "4  Fjernvarme uden veksler (direkte anlæg)   \n",
      "\n",
      "                                              L_text                Type  \\\n",
      "0  Bygningen opvarmes med fjernvarme. Anlægget er...  DirectDistrictHeat   \n",
      "1  Bygningen opvarmes med fjernvarme. Anlægget er...  DirectDistrictHeat   \n",
      "2  Bygningen opvarmes med fjernvarme. Anlægget er...  DirectDistrictHeat   \n",
      "3  Bygningen opvarmes med fjernvarme. Anlægget er...  DirectDistrictHeat   \n",
      "4  :Klynge A, B, C og D:\\nBygningerne opvarmes me...  DirectDistrictHeat   \n",
      "\n",
      "   IsPrimary  Fuel  FuelPrice  YearlySubscriptionPrice      SubscriptionUnit  \\\n",
      "0       True   NaN        NaN                  -1250.0  BBRAreaInSqareMeters   \n",
      "1       True   NaN        NaN                  -1250.0  BBRAreaInSqareMeters   \n",
      "2       True   NaN        NaN                   3750.0                   NaN   \n",
      "3       True   NaN        NaN                   3750.0                   NaN   \n",
      "4       True   NaN        NaN                   3562.5  BBRAreaInSqareMeters   \n",
      "\n",
      "   PricePerSubscriptionUnit  SpecifiedSubscriptionUnitAmount  \\\n",
      "0                      25.0                           2364.0   \n",
      "1                      25.0                           5746.0   \n",
      "2                       0.0                              0.0   \n",
      "3                       0.0                              0.0   \n",
      "4                      25.0                           1152.0   \n",
      "\n",
      "                            DistrictHeatingPlantName  \n",
      "0  Hadsten Varmeværk A.m.b.A. - Over 200 m² (22-0...  \n",
      "1  Hadsten Varmeværk A.m.b.A. - Over 200 m² (22-0...  \n",
      "2  Hadsten Varmeværk A.m.b.A. - 0-200 m² (22-01-2...  \n",
      "3  Hadsten Varmeværk A.m.b.A. - 0-200 m² (22-01-2...  \n",
      "4  Hadsten Varmeværk A.m.b.A. - Over 200 m² (07-0...  \n"
     ]
    }
   ],
   "execution_count": 3
  },
  {
   "metadata": {
    "ExecuteTime": {
     "end_time": "2025-07-21T00:39:16.856936Z",
     "start_time": "2025-07-21T00:39:14.952601Z"
    }
   },
   "cell_type": "code",
   "source": [
    "d_aarhus = pd.read_excel(\"../data/data_district_heating.xlsx\", sheet_name=\"Aarhus\")\n",
    "print(d_aarhus.head())"
   ],
   "id": "6a6cf9ff962d6f3c",
   "outputs": [
    {
     "name": "stdout",
     "output_type": "stream",
     "text": [
      "    SerialID  building_id  zone_id     SEEB  \\\n",
      "0  311075771            0        0  2-1-3-0   \n",
      "1  311075781            0        0  2-1-3-0   \n",
      "2  311075799            0        0  2-1-3-0   \n",
      "3  311075871            0        0  2-1-3-0   \n",
      "4  311075881            0        0  2-1-3-0   \n",
      "\n",
      "                                    S_text  \\\n",
      "0  Fjernvarme uden veksler (direkte anlæg)   \n",
      "1  Fjernvarme uden veksler (direkte anlæg)   \n",
      "2  Fjernvarme uden veksler (direkte anlæg)   \n",
      "3  Fjernvarme uden veksler (direkte anlæg)   \n",
      "4                       Direkte fjernvarme   \n",
      "\n",
      "                                              L_text                Type  \\\n",
      "0  Ejendommen opvarmes med fjernvarme, og anlægge...  DirectDistrictHeat   \n",
      "1  Bygningen opvarmes med fjernvarme. Anlægget er...  DirectDistrictHeat   \n",
      "2  Bygningen opvarmes med fjernvarme. Anlægget er...  DirectDistrictHeat   \n",
      "3                                                NaN  DirectDistrictHeat   \n",
      "4                                                NaN  DirectDistrictHeat   \n",
      "\n",
      "   IsPrimary  Fuel  FuelPrice  YearlySubscriptionPrice      SubscriptionUnit  \\\n",
      "0       True   NaN        NaN                    750.0  BBRAreaInSqareMeters   \n",
      "1       True   NaN        NaN                    750.0  BBRAreaInSqareMeters   \n",
      "2       True   NaN        NaN                    750.0  BBRAreaInSqareMeters   \n",
      "3       True   NaN        NaN                   1705.0  BBRAreaInSqareMeters   \n",
      "4       True   NaN        NaN                   3750.0  BBRAreaInSqareMeters   \n",
      "\n",
      "   PricePerSubscriptionUnit  SpecifiedSubscriptionUnitAmount  \\\n",
      "0                      15.5                            103.0   \n",
      "1                      15.5                            113.0   \n",
      "2                      15.5                            120.0   \n",
      "3                      15.5                           2120.0   \n",
      "4                      15.5                            685.0   \n",
      "\n",
      "          DistrictHeatingPlantName  \n",
      "0  Affaldvarme Aarhus - 1,5 - 3 QP  \n",
      "1  Affaldvarme Aarhus - 1,5 - 3 QP  \n",
      "2  Affaldvarme Aarhus - 1,5 - 3 QP  \n",
      "3        Affaldvarme Aarhus - 6 QP  \n",
      "4  Affaldvarme Aarhus - 1,5 - 3 QP  \n"
     ]
    }
   ],
   "execution_count": 4
  },
  {
   "metadata": {
    "ExecuteTime": {
     "end_time": "2025-07-21T00:39:17.303644Z",
     "start_time": "2025-07-21T00:39:16.870133Z"
    }
   },
   "cell_type": "code",
   "source": [
    "d_gt = pd.read_excel(\"../data/data_district_heating.xlsx\", sheet_name=\"Ground Truth\")\n",
    "print(d_gt.head())"
   ],
   "id": "2d780ba37700089c",
   "outputs": [
    {
     "name": "stdout",
     "output_type": "stream",
     "text": [
      "    SerialID  building_id  zone_id     SEEB  \\\n",
      "0  311117034            0        0  2-1-3-0   \n",
      "1  311117893      2050872  2050872  2-1-3-0   \n",
      "2  311119019            0        0  2-1-3-0   \n",
      "3  311121828            0        0  2-1-3-0   \n",
      "4  311122000            0        0  2-1-3-0   \n",
      "\n",
      "                                              S_text  \\\n",
      "0  Fjernvarme med isoleret veksler (indirekte anl...   \n",
      "1                            Eksisterende fjernvarme   \n",
      "2  Fjernvarme med uisoleret veksler (indirekte an...   \n",
      "3  Fjernvarme med isoleret veksler (indirekte anl...   \n",
      "4  Fjernvarme med isoleret veksler (indirekte anl...   \n",
      "\n",
      "                                              L_text  \\\n",
      "0  Bygningen opvarmes med fjernvarme. Anlægget er...   \n",
      "1                                                NaN   \n",
      "2  Bygningen opvarmes med fjernvarme. Anlægget er...   \n",
      "3  Ejendommen opvarmes med fjernvarme fra HOFOR.\\...   \n",
      "4  Bygningen opvarmes med fjernvarme. Anlægget er...   \n",
      "\n",
      "                        Type  Pieces1  Manufacturer1 SubType1  ...  \\\n",
      "0  DistrictHeatWithExchanger      1.0        Unknown      NaN  ...   \n",
      "1  DistrictHeatWithExchanger      1.0        Unknown      NaN  ...   \n",
      "2  DistrictHeatWithExchanger      1.0        Unknown      NaN  ...   \n",
      "3  DistrictHeatWithExchanger      1.0  Danfoss Redan      NaN  ...   \n",
      "4  DistrictHeatWithExchanger      1.0        Unknown      NaN  ...   \n",
      "\n",
      "       SubscriptionUnit PricePerSubscriptionUnit  \\\n",
      "0             Specified                   211.98   \n",
      "1             Specified                     0.00   \n",
      "2             Specified                   211.98   \n",
      "3  BBRAreaInSqareMeters                    20.00   \n",
      "4             Specified                   211.98   \n",
      "\n",
      "  SpecifiedSubscriptionUnitAmount  \\\n",
      "0                            15.0   \n",
      "1                             0.0   \n",
      "2                           190.0   \n",
      "3                           502.0   \n",
      "4                            25.0   \n",
      "\n",
      "                       DistrictHeatingPlantName HeatLoss BFactor  \\\n",
      "0  HOFOR (Københavns Energi) - MWh (04-07-2014)      1.1     0.0   \n",
      "1                   Københavns Energi MWh (293)      1.5     0.7   \n",
      "2  HOFOR (Københavns Energi) - MWh (04-07-2014)      5.0     0.0   \n",
      "3  HOFOR (Københavns Energi) - MWh (04-07-2014)      1.1     0.0   \n",
      "4  HOFOR (Københavns Energi) - MWh (04-07-2014)      7.0     0.0   \n",
      "\n",
      "  NominalEffect MinimumTemperature StandbyPowerUsage  HeatsHotWater  \n",
      "0          20.0               60.0               0.0            1.0  \n",
      "1          16.0                0.0               5.0            0.0  \n",
      "2          20.0               65.0               0.0            0.0  \n",
      "3          60.0               60.0               0.0            0.0  \n",
      "4          20.0               65.0               0.0            0.0  \n",
      "\n",
      "[5 rows x 42 columns]\n"
     ]
    }
   ],
   "execution_count": 5
  },
  {
   "metadata": {},
   "cell_type": "markdown",
   "source": "## Data Size",
   "id": "2ad48d3fdbd70771"
  },
  {
   "metadata": {
    "ExecuteTime": {
     "end_time": "2025-07-21T00:39:17.319665Z",
     "start_time": "2025-07-21T00:39:17.316494Z"
    }
   },
   "cell_type": "code",
   "source": [
    "print(\"Data Favrskov shape: \", d_favrskov.shape)\n",
    "print(\"Data Hjorring shape: \", d_hjorring.shape)\n",
    "print(\"Data Aarhus shape: \", d_aarhus.shape)\n",
    "print(\"Data Ground Truth shape: \", d_gt.shape)"
   ],
   "id": "bfc1723800b9ce45",
   "outputs": [
    {
     "name": "stdout",
     "output_type": "stream",
     "text": [
      "Data Favrskov shape:  (111, 15)\n",
      "Data Hjorring shape:  (6138, 15)\n",
      "Data Aarhus shape:  (29542, 15)\n",
      "Data Ground Truth shape:  (2272, 42)\n"
     ]
    }
   ],
   "execution_count": 6
  },
  {
   "metadata": {},
   "cell_type": "markdown",
   "source": "Let's merge the dataset on the SerialID to check whether the ground truth data are present in the rest of the samples.",
   "id": "b921737a06a2489b"
  },
  {
   "metadata": {
    "ExecuteTime": {
     "end_time": "2025-07-21T00:39:17.358675Z",
     "start_time": "2025-07-21T00:39:17.344816Z"
    }
   },
   "cell_type": "code",
   "source": [
    "d_f_gt = pd.merge(left=d_favrskov, right=d_gt, on=\"SerialID\")\n",
    "d_h_gt = pd.merge(left=d_hjorring, right=d_gt, on=\"SerialID\")\n",
    "d_a_gt = pd.merge(left=d_aarhus, right=d_gt, on=\"SerialID\")\n",
    "print(d_f_gt.shape)\n",
    "print(d_h_gt.shape)\n",
    "print(d_a_gt.shape)"
   ],
   "id": "c9f440d1e4a9bb15",
   "outputs": [
    {
     "name": "stdout",
     "output_type": "stream",
     "text": [
      "(0, 56)\n",
      "(0, 56)\n",
      "(0, 56)\n"
     ]
    }
   ],
   "execution_count": 7
  },
  {
   "metadata": {},
   "cell_type": "markdown",
   "source": [
    "From the previous result, we can say that the ground truth is not present in data.\n",
    "Thus we have 2272 labeled samples."
   ],
   "id": "27530463e49c9f0"
  },
  {
   "metadata": {
    "ExecuteTime": {
     "end_time": "2025-07-21T00:39:17.379673Z",
     "start_time": "2025-07-21T00:39:17.377144Z"
    }
   },
   "cell_type": "code",
   "source": "print(d_favrskov.shape[0] + d_hjorring.shape[0] + d_aarhus.shape[0])",
   "id": "6da40b3ddb402c34",
   "outputs": [
    {
     "name": "stdout",
     "output_type": "stream",
     "text": [
      "35791\n"
     ]
    }
   ],
   "execution_count": 8
  },
  {
   "metadata": {},
   "cell_type": "markdown",
   "source": "On the other hand, we have 35791 entries we want to label.",
   "id": "64fc4e9e92967ffe"
  },
  {
   "metadata": {},
   "cell_type": "markdown",
   "source": "## Features of the Ground Truths",
   "id": "37440e61425e76cf"
  },
  {
   "metadata": {
    "ExecuteTime": {
     "end_time": "2025-07-21T00:39:17.400413Z",
     "start_time": "2025-07-21T00:39:17.396666Z"
    }
   },
   "cell_type": "code",
   "source": "print(d_gt[d_gt['SerialID'] == 311795931].iloc[0, 0:31])",
   "id": "1d8f651b5bf714d2",
   "outputs": [
    {
     "name": "stdout",
     "output_type": "stream",
     "text": [
      "SerialID                                                      311795931\n",
      "building_id                                                           0\n",
      "zone_id                                                               0\n",
      "SEEB                                                            2-1-3-0\n",
      "S_text                                              Fjernvarmeforsyning\n",
      "L_text                Forsyningsformen er fjernvarme som leveres af ...\n",
      "Type                                          DistrictHeatWithExchanger\n",
      "Pieces1                                                             2.0\n",
      "Manufacturer1                                                      Reci\n",
      "SubType1                                                          VT 90\n",
      "HxType1                                                      Rørveksler\n",
      "NominelEffectEach1                                300 kW (total 600 kW)\n",
      "Year1                                                              1984\n",
      "Pieces2                                                             3.0\n",
      "Manufacturer2                                                      Reci\n",
      "SubType2                                                          VT240\n",
      "HxType2                                                      Rørveksler\n",
      "NominelEffectEach2                               750 kW (total 2200 kW)\n",
      "Year2                                                              1984\n",
      "Pieces3                                                             2.0\n",
      "Manufacturer3                                                      Reci\n",
      "SubType3                                                          VT120\n",
      "HxType3                                                      Rørveksler\n",
      "NominelEffectEach3                                400 kW (total 800 kW)\n",
      "Year3                                                            1984.0\n",
      "Pieces4                                                             1.0\n",
      "Manufacturer4                                                   Unknown\n",
      "SubType4                                                            NaN\n",
      "HxType4                                           Isoleret pladeveksler\n",
      "NominelEffectEach4                                                  NaN\n",
      "Year4                                                               NaN\n",
      "Name: 2126, dtype: object\n"
     ]
    }
   ],
   "execution_count": 9
  },
  {
   "metadata": {
    "ExecuteTime": {
     "end_time": "2025-07-21T00:39:17.425086Z",
     "start_time": "2025-07-21T00:39:17.421482Z"
    }
   },
   "cell_type": "code",
   "source": [
    "d_gt_labels = d_gt.iloc[:, 7:31]\n",
    "print(d_gt_labels.columns)\n",
    "print(\"Number of lables: \", d_gt_labels.shape[1])"
   ],
   "id": "a9062535beb0eaf4",
   "outputs": [
    {
     "name": "stdout",
     "output_type": "stream",
     "text": [
      "Index(['Pieces1', 'Manufacturer1', 'SubType1', 'HxType1', 'NominelEffectEach1',\n",
      "       'Year1', 'Pieces2', 'Manufacturer2', 'SubType2', 'HxType2',\n",
      "       'NominelEffectEach2', 'Year2', 'Pieces3', 'Manufacturer3', 'SubType3',\n",
      "       'HxType3', 'NominelEffectEach3', 'Year3', 'Pieces4', 'Manufacturer4',\n",
      "       'SubType4', 'HxType4', 'NominelEffectEach4', 'Year4'],\n",
      "      dtype='object')\n",
      "Number of lables:  24\n"
     ]
    }
   ],
   "execution_count": 10
  },
  {
   "metadata": {
    "ExecuteTime": {
     "end_time": "2025-07-21T00:39:17.447744Z",
     "start_time": "2025-07-21T00:39:17.443991Z"
    }
   },
   "cell_type": "code",
   "source": "print(d_gt_labels.isnull().mean() * 100)",
   "id": "88a5d6af357ef08f",
   "outputs": [
    {
     "name": "stdout",
     "output_type": "stream",
     "text": [
      "Pieces1                 0.000000\n",
      "Manufacturer1           0.000000\n",
      "SubType1               82.394366\n",
      "HxType1                 7.262324\n",
      "NominelEffectEach1     92.561620\n",
      "Year1                  58.846831\n",
      "Pieces2                95.774648\n",
      "Manufacturer2          95.730634\n",
      "SubType2               96.830986\n",
      "HxType2                96.082746\n",
      "NominelEffectEach2     99.691901\n",
      "Year2                  96.390845\n",
      "Pieces3                99.647887\n",
      "Manufacturer3          99.647887\n",
      "SubType3               99.779930\n",
      "HxType3                99.647887\n",
      "NominelEffectEach3     99.911972\n",
      "Year3                  99.691901\n",
      "Pieces4                99.735915\n",
      "Manufacturer4          99.735915\n",
      "SubType4               99.823944\n",
      "HxType4                99.735915\n",
      "NominelEffectEach4    100.000000\n",
      "Year4                  99.823944\n",
      "dtype: float64\n"
     ]
    }
   ],
   "execution_count": 11
  },
  {
   "metadata": {},
   "cell_type": "markdown",
   "source": [
    "From the previous result, we know that every entry has informations about `Pieces1` and `Manufacturer1`.\n",
    "We can see that `NominalEffectEach4` is always empty, and thus we do not have information about this column.\n",
    "Finally, we can see that data are very sparse, indeed very few columns are filled."
   ],
   "id": "a38514232142bbf0"
  },
  {
   "metadata": {
    "ExecuteTime": {
     "end_time": "2025-07-21T00:39:17.473787Z",
     "start_time": "2025-07-21T00:39:17.467586Z"
    }
   },
   "cell_type": "code",
   "source": [
    "null_counts = d_gt_labels.isnull().sum(axis=1)\n",
    "missing_values = null_counts.value_counts()\n",
    "\n",
    "missing_index = np.array(missing_values.index)\n",
    "missing_index.sort()\n",
    "missing_values = np.array(missing_values[missing_index])\n",
    "missing_values_cum = np.cumsum(missing_values)\n",
    "percentages = missing_values_cum / missing_values_cum[-1] * 100\n",
    "\n",
    "for i in range(missing_index.shape[0]):\n",
    "    print(\"Number of samples: \", missing_values_cum[i], f\"\\tCorresponding percentage: {percentages[i]:.3f} No more than {missing_index[i]} entries missing\")"
   ],
   "id": "fd8e2158d0732c6b",
   "outputs": [
    {
     "name": "stdout",
     "output_type": "stream",
     "text": [
      "Number of samples:  1 \tCorresponding percentage: 0.044 No more than 3 entries missing\n",
      "Number of samples:  5 \tCorresponding percentage: 0.220 No more than 6 entries missing\n",
      "Number of samples:  6 \tCorresponding percentage: 0.264 No more than 7 entries missing\n",
      "Number of samples:  7 \tCorresponding percentage: 0.308 No more than 8 entries missing\n",
      "Number of samples:  8 \tCorresponding percentage: 0.352 No more than 10 entries missing\n",
      "Number of samples:  10 \tCorresponding percentage: 0.440 No more than 12 entries missing\n",
      "Number of samples:  61 \tCorresponding percentage: 2.685 No more than 13 entries missing\n",
      "Number of samples:  65 \tCorresponding percentage: 2.861 No more than 14 entries missing\n",
      "Number of samples:  85 \tCorresponding percentage: 3.741 No more than 16 entries missing\n",
      "Number of samples:  90 \tCorresponding percentage: 3.961 No more than 17 entries missing\n",
      "Number of samples:  164 \tCorresponding percentage: 7.218 No more than 18 entries missing\n",
      "Number of samples:  396 \tCorresponding percentage: 17.430 No more than 19 entries missing\n",
      "Number of samples:  998 \tCorresponding percentage: 43.926 No more than 20 entries missing\n",
      "Number of samples:  2140 \tCorresponding percentage: 94.190 No more than 21 entries missing\n",
      "Number of samples:  2272 \tCorresponding percentage: 100.000 No more than 22 entries missing\n"
     ]
    }
   ],
   "execution_count": 12
  },
  {
   "metadata": {
    "ExecuteTime": {
     "end_time": "2025-07-21T00:39:17.496386Z",
     "start_time": "2025-07-21T00:39:17.490651Z"
    }
   },
   "cell_type": "code",
   "source": [
    "print(f\"Average length of S_text: {d_gt['S_text'].str.len().mean():.2f}\\t standard deviation: {d_gt['S_text'].str.len().std():.2f}\")\n",
    "print(f\"Average length of L_text: {d_gt['L_text'].str.len().mean():.2f} standard deviation: {d_gt['L_text'].str.len().std():.2f}\")"
   ],
   "id": "8ae1da8dfdb05874",
   "outputs": [
    {
     "name": "stdout",
     "output_type": "stream",
     "text": [
      "Average length of S_text: 48.65\t standard deviation: 14.20\n",
      "Average length of L_text: 195.77 standard deviation: 175.14\n"
     ]
    }
   ],
   "execution_count": 13
  },
  {
   "metadata": {},
   "cell_type": "markdown",
   "source": "# Export Gold Label in csv",
   "id": "5c97c7dee7c902e9"
  },
  {
   "metadata": {
    "ExecuteTime": {
     "end_time": "2025-07-21T00:39:17.524581Z",
     "start_time": "2025-07-21T00:39:17.520483Z"
    }
   },
   "cell_type": "code",
   "source": [
    "import sys\n",
    "sys.path.append(\"../scripts\")\n",
    "from data_from_xlsx import merge_columns, to_csv"
   ],
   "id": "c49193dfd4e40f1",
   "outputs": [],
   "execution_count": 14
  },
  {
   "metadata": {
    "ExecuteTime": {
     "end_time": "2025-07-21T00:39:17.553458Z",
     "start_time": "2025-07-21T00:39:17.545251Z"
    }
   },
   "cell_type": "code",
   "source": [
    "d_gt['text'] = d_gt['S_text'].fillna(\"\").astype(str) + \". \" + d_gt['L_text'].fillna(\"\").astype(str)\n",
    "print(\"Total number of sentences: \", (d_gt['text'].str.count(r'[.!?](?:\\s|$)') + 1).sum())"
   ],
   "id": "d9bbc1a761eb87d9",
   "outputs": [
    {
     "name": "stdout",
     "output_type": "stream",
     "text": [
      "Total number of sentences:  11017\n"
     ]
    }
   ],
   "execution_count": 15
  },
  {
   "metadata": {
    "ExecuteTime": {
     "end_time": "2025-07-21T00:39:17.576145Z",
     "start_time": "2025-07-21T00:39:17.572425Z"
    }
   },
   "cell_type": "code",
   "source": "print(\"Total number of lables: \", d_gt_labels.count().sum())",
   "id": "dcc3736b00639a14",
   "outputs": [
    {
     "name": "stdout",
     "output_type": "stream",
     "text": [
      "Total number of lables:  8662\n"
     ]
    }
   ],
   "execution_count": 16
  },
  {
   "metadata": {
    "ExecuteTime": {
     "end_time": "2025-07-21T00:39:17.605048Z",
     "start_time": "2025-07-21T00:39:17.599151Z"
    }
   },
   "cell_type": "code",
   "source": [
    "n_sentences = (d_gt['text'].str.count(r'[.!?](?:\\s|$)') + 1).sum()\n",
    "n_labels = d_gt_labels.count().sum()\n",
    "print(\"Labels on sentences ratio: \", n_labels/n_sentences, \" Labels on sentences percentage: \", n_labels/n_sentences*100)"
   ],
   "id": "dd33095485a58aac",
   "outputs": [
    {
     "name": "stdout",
     "output_type": "stream",
     "text": [
      "Labels on sentences ratio:  0.7862394481256241  Labels on sentences percentage:  78.62394481256241\n"
     ]
    }
   ],
   "execution_count": 17
  },
  {
   "metadata": {
    "ExecuteTime": {
     "end_time": "2025-07-21T00:39:17.631001Z",
     "start_time": "2025-07-21T00:39:17.622349Z"
    }
   },
   "cell_type": "code",
   "source": [
    "for col in d_gt_labels.columns:\n",
    "    print(f\"{col} has the following values: {d_gt_labels[col].value_counts()}\")"
   ],
   "id": "1bf8f567499c159e",
   "outputs": [
    {
     "name": "stdout",
     "output_type": "stream",
     "text": [
      "Pieces1 has the following values: Pieces1\n",
      "1.00    2022\n",
      "2.00     184\n",
      "3.00      39\n",
      "4.00      22\n",
      "5.00       2\n",
      "0.25       1\n",
      "0.53       1\n",
      "0.94       1\n",
      "Name: count, dtype: int64\n",
      "Manufacturer1 has the following values: Manufacturer1\n",
      "Unknown                           1452\n",
      "Reci                               212\n",
      "Gemina Termix                      106\n",
      "None - direct district heating      80\n",
      "CTC                                 67\n",
      "Sondex Teknik                       66\n",
      "Reflex                              44\n",
      "Danfoss Redan                       28\n",
      "Danfoss                             24\n",
      "Elge                                22\n",
      "Kähler & Breum                      21\n",
      "WPH Teknik                          21\n",
      "Metro Therm                         20\n",
      "Cetetherm                           20\n",
      "Alfa Laval                          19\n",
      "Ajva                                14\n",
      "Armatec                             13\n",
      "Ajva                                 6\n",
      "APV                                  5\n",
      "Ducon                                5\n",
      "Sundex                               4\n",
      "HS Tarm                              4\n",
      "Megatherm                            4\n",
      "Ducan                                3\n",
      "Contherm                             2\n",
      "Aga                                  2\n",
      "Ducon Jan                            1\n",
      "Gemina                               1\n",
      "Cedervall                            1\n",
      "Danfoss Redan                        1\n",
      "KN                                   1\n",
      "ED Heating                           1\n",
      "Baxi                                 1\n",
      "Celetherm                            1\n",
      "Name: count, dtype: int64\n",
      "SubType1 has the following values: SubType1\n",
      "SL3323TLX                51\n",
      "SKR                      21\n",
      "Compactstation CSC213    16\n",
      "VX-2                      9\n",
      "VT 60-III                 9\n",
      "                         ..\n",
      "T-24-H 46                 1\n",
      "SL140TL150C               1\n",
      "T-100M 24                 1\n",
      "SKR 41-1 VF               1\n",
      "VVX HS                    1\n",
      "Name: count, Length: 191, dtype: int64\n",
      "HxType1 has the following values: HxType1\n",
      "Isoleret varmeveksler          1372\n",
      "Fjernvarmeveksler               238\n",
      "Varmeveksler                    148\n",
      "Uisoleret varmeveksler           93\n",
      "Isoleret pladevarmeveksler       87\n",
      "Isoleret veksler                 80\n",
      "Isoleret rørvarmeveksler         48\n",
      "Isoleret rørveksler              12\n",
      "Isoleret fjernvarmeveksler        8\n",
      "Veksler                           5\n",
      "Isoleret pladeveksler             5\n",
      "Isoleret pladerørveksler          3\n",
      "Pladeveksler                      2\n",
      "Rørveksler                        2\n",
      "Uisoleret pladevarmeveksler       2\n",
      "Isoleret dampvarmeveksler         1\n",
      "Pladevarmeveksler                 1\n",
      "Name: count, dtype: int64\n",
      "NominelEffectEach1 has the following values: NominelEffectEach1\n",
      "1100 kW                  51\n",
      "150 kW                   18\n",
      "400 kW                   11\n",
      "700 kW                   10\n",
      "250 kW                    9\n",
      "100 kW                    6\n",
      "395 kW (total 790 kW)     3\n",
      "300 kW                    3\n",
      "750 kW                    3\n",
      "40 kW                     3\n",
      "800 kW                    2\n",
      "364 kW                    2\n",
      "380 kW                    2\n",
      "810 kW                    2\n",
      "81 kW                     2\n",
      "830 kW                    2\n",
      "500 kW                    2\n",
      "230 kW (total 465 kW)     2\n",
      "220 kW                    2\n",
      "50 kW                     2\n",
      "55 kW                     2\n",
      "226 kW                    2\n",
      "440 kW                    1\n",
      "110 kW                    1\n",
      "300 kW (total 600 kW)     1\n",
      "80 kW                     1\n",
      "37 kW                     1\n",
      "1500 kW                   1\n",
      "480 kW                    1\n",
      "158 kW                    1\n",
      "116 kW                    1\n",
      "200 kW                    1\n",
      "After 1980                1\n",
      "33 kW                     1\n",
      "90 kW                     1\n",
      "688 kW                    1\n",
      "1000 kW                   1\n",
      "35 kW                     1\n",
      "1200 kW                   1\n",
      "70 kW                     1\n",
      "25 kW                     1\n",
      "238 kW                    1\n",
      "900 kW                    1\n",
      "225 kW                    1\n",
      "28 kW                     1\n",
      "58 kW                     1\n",
      "180 kW                    1\n",
      "75 kW                     1\n",
      "600 kW                    1\n",
      "596 kW                    1\n",
      "Name: count, dtype: int64\n",
      "Year1 has the following values: Year1\n",
      "After 1980    174\n",
      "2017           61\n",
      "2000-2009      43\n",
      "2010-2019      35\n",
      "1986           29\n",
      "             ... \n",
      "1995            1\n",
      "1981            1\n",
      "1972            1\n",
      "1983            1\n",
      "2024            1\n",
      "Name: count, Length: 67, dtype: int64\n",
      "Pieces2 has the following values: Pieces2\n",
      "1.0    87\n",
      "3.0     5\n",
      "2.0     4\n",
      "Name: count, dtype: int64\n",
      "Manufacturer2 has the following values: Manufacturer2\n",
      "Elge              51\n",
      "Reci              10\n",
      "Gemina Termix     10\n",
      "Alfa Laval         5\n",
      "CTC                4\n",
      "Sondex Teknik      3\n",
      "Unknown            3\n",
      "Danfoss            3\n",
      "Kähler & Breum     2\n",
      "Cetetherm          2\n",
      "Reflex             1\n",
      "Ajva               1\n",
      "WPH Teknik         1\n",
      "Megatherm          1\n",
      "Name: count, dtype: int64\n",
      "SubType2 has the following values: SubType2\n",
      "MDR79-14                    51\n",
      "Compactstation, 28VX ISO     5\n",
      "LP280H-46                    4\n",
      "XB59M-1-100                  3\n",
      "A15-*B*                      2\n",
      "GE18H x 69                   1\n",
      "ST 20-ST                     1\n",
      "SL 140TL -1/50               1\n",
      "KNSB 23703                   1\n",
      "BVX2-1                       1\n",
      "CB 200-124H                  1\n",
      "VT240                        1\n",
      "Name: count, dtype: int64\n",
      "HxType2 has the following values: HxType2\n",
      "Rørveksler               52\n",
      "Isoleret varmeveksler    33\n",
      "Pladeveksler              1\n",
      "Veksler                   1\n",
      "Isoleret veksler          1\n",
      "Varmeveksler              1\n",
      "Name: count, dtype: int64\n",
      "NominelEffectEach2 has the following values: NominelEffectEach2\n",
      "800 kW                    1\n",
      "180 kW                    1\n",
      "Isoleret varmeveksler     1\n",
      "800kW                     1\n",
      "200 kW                    1\n",
      "319 kW                    1\n",
      "750 kW (total 2200 kW)    1\n",
      "Name: count, dtype: int64\n",
      "Year2 has the following values: Year2\n",
      "1999          51\n",
      "2016           7\n",
      "1989           4\n",
      "2020           4\n",
      "2004           3\n",
      "1988           2\n",
      "2018           2\n",
      "1974           2\n",
      "2001           1\n",
      "After 1980     1\n",
      "2017           1\n",
      "2019           1\n",
      "2013           1\n",
      "1984           1\n",
      "2010           1\n",
      "Name: count, dtype: int64\n",
      "Pieces3 has the following values: Pieces3\n",
      "1.0    6\n",
      "2.0    2\n",
      "Name: count, dtype: int64\n",
      "Manufacturer3 has the following values: Manufacturer3\n",
      "Reci          5\n",
      "Alfa Laval    2\n",
      "Unknown       1\n",
      "Name: count, dtype: int64\n",
      "SubType3 has the following values: SubType3\n",
      "LP120-60     4\n",
      "VT120        1\n",
      "Name: count, dtype: int64\n",
      "HxType3 has the following values: HxType3\n",
      "Isoleret varmeveksler    7\n",
      "Rørveksler               1\n",
      "Name: count, dtype: int64\n",
      "NominelEffectEach3 has the following values: NominelEffectEach3\n",
      "150 kW                   1\n",
      "400 kW (total 800 kW)    1\n",
      "Name: count, dtype: int64\n",
      "Year3 has the following values: Year3\n",
      "2017.0    5\n",
      "2015.0    1\n",
      "1984.0    1\n",
      "Name: count, dtype: int64\n",
      "Pieces4 has the following values: Pieces4\n",
      "1.0    6\n",
      "Name: count, dtype: int64\n",
      "Manufacturer4 has the following values: Manufacturer4\n",
      "Armatech    4\n",
      "Unknown     2\n",
      "Name: count, dtype: int64\n",
      "SubType4 has the following values: SubType4\n",
      "Cvcu-p SO14404     4\n",
      "Name: count, dtype: int64\n",
      "HxType4 has the following values: HxType4\n",
      "Isoleret varmeveksler    5\n",
      "Isoleret pladeveksler    1\n",
      "Name: count, dtype: int64\n",
      "NominelEffectEach4 has the following values: Series([], Name: count, dtype: int64)\n",
      "Year4 has the following values: Year4\n",
      "2018.0    4\n",
      "Name: count, dtype: int64\n"
     ]
    }
   ],
   "execution_count": 18
  },
  {
   "metadata": {
    "ExecuteTime": {
     "end_time": "2025-07-21T00:39:17.651698Z",
     "start_time": "2025-07-21T00:39:17.649145Z"
    }
   },
   "cell_type": "code",
   "source": "print(d_gt.loc[195,'text'])",
   "id": "da6494f86934b50",
   "outputs": [
    {
     "name": "stdout",
     "output_type": "stream",
     "text": [
      "Fjernvarme med ISOLERET veksler (indirekte anlæg). Bygningen opvarmes med fjernvarme via varmecentral placeret i kælderen Njalsgade 12.\n",
      "\n",
      "Varmecentral - Njalsgade 12. \n",
      "Forsyner AB Egilshus - 4 bygninger.      \n",
      "Anlægget er udført med 4 stk. isoleret varmevekslere og indirekte centralvarmevand i fordelingsnettet.\n",
      "Fabrikat reflex, år 2007 (1 stk.) og Fabrikat Reci, år 1989 (3 stk.).\n",
      "\n",
      "\n"
     ]
    }
   ],
   "execution_count": 19
  },
  {
   "metadata": {
    "ExecuteTime": {
     "end_time": "2025-07-21T00:39:20.704140Z",
     "start_time": "2025-07-21T00:39:17.682615Z"
    }
   },
   "cell_type": "code",
   "source": [
    "from tqdm.auto import trange\n",
    "import sys\n",
    "sys.path.append(\"../scripts\")\n",
    "from tokenizer import Tokenizer"
   ],
   "id": "212fd55b6a397922",
   "outputs": [],
   "execution_count": 20
  }
 ],
 "metadata": {},
 "nbformat": 4,
 "nbformat_minor": 5
}
